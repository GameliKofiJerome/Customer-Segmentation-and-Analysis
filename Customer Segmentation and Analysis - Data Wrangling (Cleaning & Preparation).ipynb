{
 "cells": [
  {
   "cell_type": "markdown",
   "id": "b66097ee-37f2-41b3-86e0-d26960d88270",
   "metadata": {},
   "source": [
    "# Project: Customer Segmentation and Analysis\n",
    "## Stage One: Data Wrangling (Cleaning and Preparation)\n",
    "This is the first stage or step of the project where I focus on preparing the data from a U.K based and registered non-store online retail for the Exploratory Data Analysis (EDA) stage and to undertake Customer Segmentation and Analysis. \n",
    "In this stage of the project, I will be undertaking the following tasks;\n",
    "1. Removing duplictae values and entries\n",
    "2. Removing all null values\n",
    "3. Correcting column data types\n",
    "4. Correcting data anomalies\n",
    "5. Formatting data values for further analysis\n",
    "and some other data cleaning tasks to prepare the data for EDA and Segmentation Analysis.\n",
    "\n",
    "### Dataset Overview\n",
    "The dataset used for this project encompasses a diverse array of more than 500K transactions, capturing the interactions of customers with the online retail platform. Features such as transaction dates, purchase amounts, and customer identifiers form the foundation for a comprehensive exploration of customer dynamics.\n",
    "\n",
    "### Columns Description\n",
    "For each data record, there are 8 variables. These are:\n",
    "1. __InvoiceNo__: This is a 6-digit integer number, uniquely assigned to each transaction.\n",
    "                  If code starts with a 'C', it indicates a cancelled transaction.\n",
    "   \n",
    "2. __stockCode__: This is a 5-digit integer number uniquely assigned to distinct product on the online retail store.\n",
    "\n",
    "3. __Description__: Product(item) name.\n",
    "\n",
    "4. __Quantity__: The count or quantities of each product(item) per transaction.\n",
    "\n",
    "5. __InvoiceDate__: Invoice date and time. Day and time when each transaction was generated.\n",
    "\n",
    "6. __UnitPrice__: Product price per unit in pound sterling.\n",
    "\n",
    "7. __CustomerID__: 5-digit number uniquely assigned to each customer.\n",
    "\n",
    "8. __Country__: Country where each customer resides.\n",
    "\n",
    "__NB:__ Comments have been included in each code cell to guide users and viewers through the data wrangling process."
   ]
  },
  {
   "cell_type": "code",
   "execution_count": 1,
   "id": "320d7f54",
   "metadata": {},
   "outputs": [],
   "source": [
    "import pandas as pd"
   ]
  },
  {
   "cell_type": "code",
   "execution_count": 2,
   "id": "708707d2",
   "metadata": {},
   "outputs": [
    {
     "data": {
      "text/html": [
       "<div>\n",
       "<style scoped>\n",
       "    .dataframe tbody tr th:only-of-type {\n",
       "        vertical-align: middle;\n",
       "    }\n",
       "\n",
       "    .dataframe tbody tr th {\n",
       "        vertical-align: top;\n",
       "    }\n",
       "\n",
       "    .dataframe thead th {\n",
       "        text-align: right;\n",
       "    }\n",
       "</style>\n",
       "<table border=\"1\" class=\"dataframe\">\n",
       "  <thead>\n",
       "    <tr style=\"text-align: right;\">\n",
       "      <th></th>\n",
       "      <th>InvoiceNo</th>\n",
       "      <th>StockCode</th>\n",
       "      <th>Description</th>\n",
       "      <th>Quantity</th>\n",
       "      <th>InvoiceDate</th>\n",
       "      <th>UnitPrice</th>\n",
       "      <th>CustomerID</th>\n",
       "      <th>Country</th>\n",
       "    </tr>\n",
       "  </thead>\n",
       "  <tbody>\n",
       "    <tr>\n",
       "      <th>0</th>\n",
       "      <td>536365</td>\n",
       "      <td>85123A</td>\n",
       "      <td>WHITE HANGING HEART T-LIGHT HOLDER</td>\n",
       "      <td>6</td>\n",
       "      <td>2010-12-01 08:26:00</td>\n",
       "      <td>2.55</td>\n",
       "      <td>17850.0</td>\n",
       "      <td>United Kingdom</td>\n",
       "    </tr>\n",
       "    <tr>\n",
       "      <th>1</th>\n",
       "      <td>536365</td>\n",
       "      <td>71053</td>\n",
       "      <td>WHITE METAL LANTERN</td>\n",
       "      <td>6</td>\n",
       "      <td>2010-12-01 08:26:00</td>\n",
       "      <td>3.39</td>\n",
       "      <td>17850.0</td>\n",
       "      <td>United Kingdom</td>\n",
       "    </tr>\n",
       "    <tr>\n",
       "      <th>2</th>\n",
       "      <td>536365</td>\n",
       "      <td>84406B</td>\n",
       "      <td>CREAM CUPID HEARTS COAT HANGER</td>\n",
       "      <td>8</td>\n",
       "      <td>2010-12-01 08:26:00</td>\n",
       "      <td>2.75</td>\n",
       "      <td>17850.0</td>\n",
       "      <td>United Kingdom</td>\n",
       "    </tr>\n",
       "    <tr>\n",
       "      <th>3</th>\n",
       "      <td>536365</td>\n",
       "      <td>84029G</td>\n",
       "      <td>KNITTED UNION FLAG HOT WATER BOTTLE</td>\n",
       "      <td>6</td>\n",
       "      <td>2010-12-01 08:26:00</td>\n",
       "      <td>3.39</td>\n",
       "      <td>17850.0</td>\n",
       "      <td>United Kingdom</td>\n",
       "    </tr>\n",
       "    <tr>\n",
       "      <th>4</th>\n",
       "      <td>536365</td>\n",
       "      <td>84029E</td>\n",
       "      <td>RED WOOLLY HOTTIE WHITE HEART.</td>\n",
       "      <td>6</td>\n",
       "      <td>2010-12-01 08:26:00</td>\n",
       "      <td>3.39</td>\n",
       "      <td>17850.0</td>\n",
       "      <td>United Kingdom</td>\n",
       "    </tr>\n",
       "  </tbody>\n",
       "</table>\n",
       "</div>"
      ],
      "text/plain": [
       "  InvoiceNo StockCode                          Description  Quantity  \\\n",
       "0    536365    85123A   WHITE HANGING HEART T-LIGHT HOLDER         6   \n",
       "1    536365     71053                  WHITE METAL LANTERN         6   \n",
       "2    536365    84406B       CREAM CUPID HEARTS COAT HANGER         8   \n",
       "3    536365    84029G  KNITTED UNION FLAG HOT WATER BOTTLE         6   \n",
       "4    536365    84029E       RED WOOLLY HOTTIE WHITE HEART.         6   \n",
       "\n",
       "          InvoiceDate  UnitPrice  CustomerID         Country  \n",
       "0 2010-12-01 08:26:00       2.55     17850.0  United Kingdom  \n",
       "1 2010-12-01 08:26:00       3.39     17850.0  United Kingdom  \n",
       "2 2010-12-01 08:26:00       2.75     17850.0  United Kingdom  \n",
       "3 2010-12-01 08:26:00       3.39     17850.0  United Kingdom  \n",
       "4 2010-12-01 08:26:00       3.39     17850.0  United Kingdom  "
      ]
     },
     "execution_count": 2,
     "metadata": {},
     "output_type": "execute_result"
    }
   ],
   "source": [
    "df = pd.read_excel('online_retail_data.xlsx')\n",
    "df.head()"
   ]
  },
  {
   "cell_type": "code",
   "execution_count": 3,
   "id": "88358c08",
   "metadata": {},
   "outputs": [
    {
     "data": {
      "text/plain": [
       "(541909, 8)"
      ]
     },
     "execution_count": 3,
     "metadata": {},
     "output_type": "execute_result"
    }
   ],
   "source": [
    "df.shape"
   ]
  },
  {
   "cell_type": "markdown",
   "id": "6ae59070",
   "metadata": {},
   "source": [
    "__The above output indicates that the dataset has _541909_ rows and _8_ columns__."
   ]
  },
  {
   "cell_type": "code",
   "execution_count": 4,
   "id": "6a88edf5",
   "metadata": {
    "scrolled": true
   },
   "outputs": [
    {
     "data": {
      "text/html": [
       "<div>\n",
       "<style scoped>\n",
       "    .dataframe tbody tr th:only-of-type {\n",
       "        vertical-align: middle;\n",
       "    }\n",
       "\n",
       "    .dataframe tbody tr th {\n",
       "        vertical-align: top;\n",
       "    }\n",
       "\n",
       "    .dataframe thead th {\n",
       "        text-align: right;\n",
       "    }\n",
       "</style>\n",
       "<table border=\"1\" class=\"dataframe\">\n",
       "  <thead>\n",
       "    <tr style=\"text-align: right;\">\n",
       "      <th></th>\n",
       "      <th>Quantity</th>\n",
       "      <th>InvoiceDate</th>\n",
       "      <th>UnitPrice</th>\n",
       "      <th>CustomerID</th>\n",
       "    </tr>\n",
       "  </thead>\n",
       "  <tbody>\n",
       "    <tr>\n",
       "      <th>count</th>\n",
       "      <td>541909.000000</td>\n",
       "      <td>541909</td>\n",
       "      <td>541909.000000</td>\n",
       "      <td>406829.000000</td>\n",
       "    </tr>\n",
       "    <tr>\n",
       "      <th>mean</th>\n",
       "      <td>9.552250</td>\n",
       "      <td>2011-07-04 13:34:57.156386048</td>\n",
       "      <td>4.611114</td>\n",
       "      <td>15287.690570</td>\n",
       "    </tr>\n",
       "    <tr>\n",
       "      <th>min</th>\n",
       "      <td>-80995.000000</td>\n",
       "      <td>2010-12-01 08:26:00</td>\n",
       "      <td>-11062.060000</td>\n",
       "      <td>12346.000000</td>\n",
       "    </tr>\n",
       "    <tr>\n",
       "      <th>25%</th>\n",
       "      <td>1.000000</td>\n",
       "      <td>2011-03-28 11:34:00</td>\n",
       "      <td>1.250000</td>\n",
       "      <td>13953.000000</td>\n",
       "    </tr>\n",
       "    <tr>\n",
       "      <th>50%</th>\n",
       "      <td>3.000000</td>\n",
       "      <td>2011-07-19 17:17:00</td>\n",
       "      <td>2.080000</td>\n",
       "      <td>15152.000000</td>\n",
       "    </tr>\n",
       "    <tr>\n",
       "      <th>75%</th>\n",
       "      <td>10.000000</td>\n",
       "      <td>2011-10-19 11:27:00</td>\n",
       "      <td>4.130000</td>\n",
       "      <td>16791.000000</td>\n",
       "    </tr>\n",
       "    <tr>\n",
       "      <th>max</th>\n",
       "      <td>80995.000000</td>\n",
       "      <td>2011-12-09 12:50:00</td>\n",
       "      <td>38970.000000</td>\n",
       "      <td>18287.000000</td>\n",
       "    </tr>\n",
       "    <tr>\n",
       "      <th>std</th>\n",
       "      <td>218.081158</td>\n",
       "      <td>NaN</td>\n",
       "      <td>96.759853</td>\n",
       "      <td>1713.600303</td>\n",
       "    </tr>\n",
       "  </tbody>\n",
       "</table>\n",
       "</div>"
      ],
      "text/plain": [
       "            Quantity                    InvoiceDate      UnitPrice  \\\n",
       "count  541909.000000                         541909  541909.000000   \n",
       "mean        9.552250  2011-07-04 13:34:57.156386048       4.611114   \n",
       "min    -80995.000000            2010-12-01 08:26:00  -11062.060000   \n",
       "25%         1.000000            2011-03-28 11:34:00       1.250000   \n",
       "50%         3.000000            2011-07-19 17:17:00       2.080000   \n",
       "75%        10.000000            2011-10-19 11:27:00       4.130000   \n",
       "max     80995.000000            2011-12-09 12:50:00   38970.000000   \n",
       "std       218.081158                            NaN      96.759853   \n",
       "\n",
       "          CustomerID  \n",
       "count  406829.000000  \n",
       "mean    15287.690570  \n",
       "min     12346.000000  \n",
       "25%     13953.000000  \n",
       "50%     15152.000000  \n",
       "75%     16791.000000  \n",
       "max     18287.000000  \n",
       "std      1713.600303  "
      ]
     },
     "execution_count": 4,
     "metadata": {},
     "output_type": "execute_result"
    }
   ],
   "source": [
    "# Lets run a descriptive statistics on our dataset\n",
    "df.describe()"
   ]
  },
  {
   "cell_type": "code",
   "execution_count": 5,
   "id": "61d6b430",
   "metadata": {},
   "outputs": [
    {
     "data": {
      "text/html": [
       "<div>\n",
       "<style scoped>\n",
       "    .dataframe tbody tr th:only-of-type {\n",
       "        vertical-align: middle;\n",
       "    }\n",
       "\n",
       "    .dataframe tbody tr th {\n",
       "        vertical-align: top;\n",
       "    }\n",
       "\n",
       "    .dataframe thead th {\n",
       "        text-align: right;\n",
       "    }\n",
       "</style>\n",
       "<table border=\"1\" class=\"dataframe\">\n",
       "  <thead>\n",
       "    <tr style=\"text-align: right;\">\n",
       "      <th></th>\n",
       "      <th>InvoiceNo</th>\n",
       "      <th>StockCode</th>\n",
       "      <th>Description</th>\n",
       "      <th>Country</th>\n",
       "    </tr>\n",
       "  </thead>\n",
       "  <tbody>\n",
       "    <tr>\n",
       "      <th>count</th>\n",
       "      <td>541909</td>\n",
       "      <td>541909</td>\n",
       "      <td>540455</td>\n",
       "      <td>541909</td>\n",
       "    </tr>\n",
       "    <tr>\n",
       "      <th>unique</th>\n",
       "      <td>25900</td>\n",
       "      <td>4070</td>\n",
       "      <td>4223</td>\n",
       "      <td>38</td>\n",
       "    </tr>\n",
       "    <tr>\n",
       "      <th>top</th>\n",
       "      <td>573585</td>\n",
       "      <td>85123A</td>\n",
       "      <td>WHITE HANGING HEART T-LIGHT HOLDER</td>\n",
       "      <td>United Kingdom</td>\n",
       "    </tr>\n",
       "    <tr>\n",
       "      <th>freq</th>\n",
       "      <td>1114</td>\n",
       "      <td>2313</td>\n",
       "      <td>2369</td>\n",
       "      <td>495478</td>\n",
       "    </tr>\n",
       "  </tbody>\n",
       "</table>\n",
       "</div>"
      ],
      "text/plain": [
       "        InvoiceNo StockCode                         Description  \\\n",
       "count      541909    541909                              540455   \n",
       "unique      25900      4070                                4223   \n",
       "top        573585    85123A  WHITE HANGING HEART T-LIGHT HOLDER   \n",
       "freq         1114      2313                                2369   \n",
       "\n",
       "               Country  \n",
       "count           541909  \n",
       "unique              38  \n",
       "top     United Kingdom  \n",
       "freq            495478  "
      ]
     },
     "execution_count": 5,
     "metadata": {},
     "output_type": "execute_result"
    }
   ],
   "source": [
    "df.describe(include = 'O')"
   ]
  },
  {
   "cell_type": "code",
   "execution_count": 6,
   "id": "4e12109d",
   "metadata": {},
   "outputs": [
    {
     "data": {
      "text/plain": [
       "InvoiceNo              object\n",
       "StockCode              object\n",
       "Description            object\n",
       "Quantity                int64\n",
       "InvoiceDate    datetime64[ns]\n",
       "UnitPrice             float64\n",
       "CustomerID            float64\n",
       "Country                object\n",
       "dtype: object"
      ]
     },
     "execution_count": 6,
     "metadata": {},
     "output_type": "execute_result"
    }
   ],
   "source": [
    "# Lets check the datatypes of our columns\n",
    "df.dtypes"
   ]
  },
  {
   "cell_type": "code",
   "execution_count": 7,
   "id": "bf6b0f34",
   "metadata": {},
   "outputs": [
    {
     "name": "stdout",
     "output_type": "stream",
     "text": [
      "<class 'pandas.core.frame.DataFrame'>\n",
      "RangeIndex: 541909 entries, 0 to 541908\n",
      "Data columns (total 8 columns):\n",
      " #   Column       Non-Null Count   Dtype         \n",
      "---  ------       --------------   -----         \n",
      " 0   InvoiceNo    541909 non-null  object        \n",
      " 1   StockCode    541909 non-null  object        \n",
      " 2   Description  540455 non-null  object        \n",
      " 3   Quantity     541909 non-null  int64         \n",
      " 4   InvoiceDate  541909 non-null  datetime64[ns]\n",
      " 5   UnitPrice    541909 non-null  float64       \n",
      " 6   CustomerID   406829 non-null  float64       \n",
      " 7   Country      541909 non-null  object        \n",
      "dtypes: datetime64[ns](1), float64(2), int64(1), object(4)\n",
      "memory usage: 33.1+ MB\n"
     ]
    }
   ],
   "source": [
    "# Lets display a summary of the dataset\n",
    "df.info()"
   ]
  },
  {
   "cell_type": "markdown",
   "id": "bff1bb49",
   "metadata": {},
   "source": [
    "__Form the information generated above, the \"Description\" and \"CustomerID\" column have missing or null values__"
   ]
  },
  {
   "cell_type": "code",
   "execution_count": 8,
   "id": "ef3ea37c",
   "metadata": {},
   "outputs": [
    {
     "data": {
      "text/plain": [
       "InvoiceNo           0\n",
       "StockCode           0\n",
       "Description      1454\n",
       "Quantity            0\n",
       "InvoiceDate         0\n",
       "UnitPrice           0\n",
       "CustomerID     135080\n",
       "Country             0\n",
       "dtype: int64"
      ]
     },
     "execution_count": 8,
     "metadata": {},
     "output_type": "execute_result"
    }
   ],
   "source": [
    "# Lets find the number or count of missing values in the \"Description\" and \"CustomerID\" columns\n",
    "df.isna().sum()"
   ]
  },
  {
   "cell_type": "markdown",
   "id": "98f4aa2c",
   "metadata": {},
   "source": [
    "__The \"Description\" column has _1454_ missing values and the \"CustomerID\" column has the highest number of missing values _135080___"
   ]
  },
  {
   "cell_type": "code",
   "execution_count": 9,
   "id": "714e80fb",
   "metadata": {},
   "outputs": [],
   "source": [
    "# Lets remove all rows with null values\n",
    "df.dropna(inplace=True)"
   ]
  },
  {
   "cell_type": "code",
   "execution_count": 10,
   "id": "673438f6",
   "metadata": {},
   "outputs": [
    {
     "name": "stdout",
     "output_type": "stream",
     "text": [
      "<class 'pandas.core.frame.DataFrame'>\n",
      "Index: 406829 entries, 0 to 541908\n",
      "Data columns (total 8 columns):\n",
      " #   Column       Non-Null Count   Dtype         \n",
      "---  ------       --------------   -----         \n",
      " 0   InvoiceNo    406829 non-null  object        \n",
      " 1   StockCode    406829 non-null  object        \n",
      " 2   Description  406829 non-null  object        \n",
      " 3   Quantity     406829 non-null  int64         \n",
      " 4   InvoiceDate  406829 non-null  datetime64[ns]\n",
      " 5   UnitPrice    406829 non-null  float64       \n",
      " 6   CustomerID   406829 non-null  float64       \n",
      " 7   Country      406829 non-null  object        \n",
      "dtypes: datetime64[ns](1), float64(2), int64(1), object(4)\n",
      "memory usage: 27.9+ MB\n"
     ]
    }
   ],
   "source": [
    "df.info()"
   ]
  },
  {
   "cell_type": "code",
   "execution_count": 11,
   "id": "00df9e64",
   "metadata": {},
   "outputs": [
    {
     "data": {
      "text/plain": [
       "InvoiceNo      0\n",
       "StockCode      0\n",
       "Description    0\n",
       "Quantity       0\n",
       "InvoiceDate    0\n",
       "UnitPrice      0\n",
       "CustomerID     0\n",
       "Country        0\n",
       "dtype: int64"
      ]
     },
     "execution_count": 11,
     "metadata": {},
     "output_type": "execute_result"
    }
   ],
   "source": [
    "df.isna().sum()"
   ]
  },
  {
   "cell_type": "markdown",
   "id": "844cd4d8",
   "metadata": {},
   "source": [
    "__All null values have been removed form the dataset__"
   ]
  },
  {
   "cell_type": "code",
   "execution_count": 12,
   "id": "82a4dc0f",
   "metadata": {},
   "outputs": [],
   "source": [
    "# Changing datatype of the customer Id column from float to integer\n",
    "df['CustomerID'] = df['CustomerID'].astype(int)"
   ]
  },
  {
   "cell_type": "code",
   "execution_count": 13,
   "id": "b8361946",
   "metadata": {},
   "outputs": [
    {
     "name": "stdout",
     "output_type": "stream",
     "text": [
      "<class 'pandas.core.frame.DataFrame'>\n",
      "Index: 406829 entries, 0 to 541908\n",
      "Data columns (total 8 columns):\n",
      " #   Column       Non-Null Count   Dtype         \n",
      "---  ------       --------------   -----         \n",
      " 0   InvoiceNo    406829 non-null  object        \n",
      " 1   StockCode    406829 non-null  object        \n",
      " 2   Description  406829 non-null  object        \n",
      " 3   Quantity     406829 non-null  int64         \n",
      " 4   InvoiceDate  406829 non-null  datetime64[ns]\n",
      " 5   UnitPrice    406829 non-null  float64       \n",
      " 6   CustomerID   406829 non-null  int32         \n",
      " 7   Country      406829 non-null  object        \n",
      "dtypes: datetime64[ns](1), float64(1), int32(1), int64(1), object(4)\n",
      "memory usage: 26.4+ MB\n"
     ]
    }
   ],
   "source": [
    "df.info()"
   ]
  },
  {
   "cell_type": "code",
   "execution_count": 14,
   "id": "5eae1bc9",
   "metadata": {},
   "outputs": [
    {
     "data": {
      "text/html": [
       "<div>\n",
       "<style scoped>\n",
       "    .dataframe tbody tr th:only-of-type {\n",
       "        vertical-align: middle;\n",
       "    }\n",
       "\n",
       "    .dataframe tbody tr th {\n",
       "        vertical-align: top;\n",
       "    }\n",
       "\n",
       "    .dataframe thead th {\n",
       "        text-align: right;\n",
       "    }\n",
       "</style>\n",
       "<table border=\"1\" class=\"dataframe\">\n",
       "  <thead>\n",
       "    <tr style=\"text-align: right;\">\n",
       "      <th></th>\n",
       "      <th>InvoiceNo</th>\n",
       "      <th>StockCode</th>\n",
       "      <th>Description</th>\n",
       "      <th>Quantity</th>\n",
       "      <th>InvoiceDate</th>\n",
       "      <th>UnitPrice</th>\n",
       "      <th>CustomerID</th>\n",
       "      <th>Country</th>\n",
       "    </tr>\n",
       "  </thead>\n",
       "  <tbody>\n",
       "    <tr>\n",
       "      <th>0</th>\n",
       "      <td>536365</td>\n",
       "      <td>85123A</td>\n",
       "      <td>WHITE HANGING HEART T-LIGHT HOLDER</td>\n",
       "      <td>6</td>\n",
       "      <td>2010-12-01 08:26:00</td>\n",
       "      <td>2.55</td>\n",
       "      <td>17850</td>\n",
       "      <td>United Kingdom</td>\n",
       "    </tr>\n",
       "    <tr>\n",
       "      <th>1</th>\n",
       "      <td>536365</td>\n",
       "      <td>71053</td>\n",
       "      <td>WHITE METAL LANTERN</td>\n",
       "      <td>6</td>\n",
       "      <td>2010-12-01 08:26:00</td>\n",
       "      <td>3.39</td>\n",
       "      <td>17850</td>\n",
       "      <td>United Kingdom</td>\n",
       "    </tr>\n",
       "    <tr>\n",
       "      <th>2</th>\n",
       "      <td>536365</td>\n",
       "      <td>84406B</td>\n",
       "      <td>CREAM CUPID HEARTS COAT HANGER</td>\n",
       "      <td>8</td>\n",
       "      <td>2010-12-01 08:26:00</td>\n",
       "      <td>2.75</td>\n",
       "      <td>17850</td>\n",
       "      <td>United Kingdom</td>\n",
       "    </tr>\n",
       "    <tr>\n",
       "      <th>3</th>\n",
       "      <td>536365</td>\n",
       "      <td>84029G</td>\n",
       "      <td>KNITTED UNION FLAG HOT WATER BOTTLE</td>\n",
       "      <td>6</td>\n",
       "      <td>2010-12-01 08:26:00</td>\n",
       "      <td>3.39</td>\n",
       "      <td>17850</td>\n",
       "      <td>United Kingdom</td>\n",
       "    </tr>\n",
       "    <tr>\n",
       "      <th>4</th>\n",
       "      <td>536365</td>\n",
       "      <td>84029E</td>\n",
       "      <td>RED WOOLLY HOTTIE WHITE HEART.</td>\n",
       "      <td>6</td>\n",
       "      <td>2010-12-01 08:26:00</td>\n",
       "      <td>3.39</td>\n",
       "      <td>17850</td>\n",
       "      <td>United Kingdom</td>\n",
       "    </tr>\n",
       "  </tbody>\n",
       "</table>\n",
       "</div>"
      ],
      "text/plain": [
       "  InvoiceNo StockCode                          Description  Quantity  \\\n",
       "0    536365    85123A   WHITE HANGING HEART T-LIGHT HOLDER         6   \n",
       "1    536365     71053                  WHITE METAL LANTERN         6   \n",
       "2    536365    84406B       CREAM CUPID HEARTS COAT HANGER         8   \n",
       "3    536365    84029G  KNITTED UNION FLAG HOT WATER BOTTLE         6   \n",
       "4    536365    84029E       RED WOOLLY HOTTIE WHITE HEART.         6   \n",
       "\n",
       "          InvoiceDate  UnitPrice  CustomerID         Country  \n",
       "0 2010-12-01 08:26:00       2.55       17850  United Kingdom  \n",
       "1 2010-12-01 08:26:00       3.39       17850  United Kingdom  \n",
       "2 2010-12-01 08:26:00       2.75       17850  United Kingdom  \n",
       "3 2010-12-01 08:26:00       3.39       17850  United Kingdom  \n",
       "4 2010-12-01 08:26:00       3.39       17850  United Kingdom  "
      ]
     },
     "execution_count": 14,
     "metadata": {},
     "output_type": "execute_result"
    }
   ],
   "source": [
    "df.head()"
   ]
  },
  {
   "cell_type": "code",
   "execution_count": 15,
   "id": "bdab675d",
   "metadata": {},
   "outputs": [
    {
     "data": {
      "text/plain": [
       "InvoiceNo      22190\n",
       "StockCode       3684\n",
       "Description     3896\n",
       "Quantity         436\n",
       "InvoiceDate    20460\n",
       "UnitPrice        620\n",
       "CustomerID      4372\n",
       "Country           37\n",
       "dtype: int64"
      ]
     },
     "execution_count": 15,
     "metadata": {},
     "output_type": "execute_result"
    }
   ],
   "source": [
    "# Displaying the number of unique values in each column of the dataset\n",
    "df.nunique()"
   ]
  },
  {
   "cell_type": "code",
   "execution_count": 16,
   "id": "bb2656f0",
   "metadata": {},
   "outputs": [
    {
     "name": "stdout",
     "output_type": "stream",
     "text": [
      "141       C536379\n",
      "154       C536383\n",
      "235       C536391\n",
      "236       C536391\n",
      "237       C536391\n",
      "           ...   \n",
      "540449    C581490\n",
      "541541    C581499\n",
      "541715    C581568\n",
      "541716    C581569\n",
      "541717    C581569\n",
      "Name: InvoiceNo, Length: 8905, dtype: object\n"
     ]
    }
   ],
   "source": [
    "# displaying the records of invoices that start with a 'C' indicating cancelation\n",
    "character = 'C'  # The specific character to search for\n",
    "filtered_df = df[df['InvoiceNo'].str.contains(character, na=False)]\n",
    "print(filtered_df['InvoiceNo'])"
   ]
  },
  {
   "cell_type": "markdown",
   "id": "dccb9090",
   "metadata": {},
   "source": [
    "__There are a total of _8905_ invoices that indicate a cancelled transaction__"
   ]
  },
  {
   "cell_type": "code",
   "execution_count": 17,
   "id": "ef32c589",
   "metadata": {},
   "outputs": [],
   "source": [
    "# We create a function to check if a transaction was canceled or not and create a new column to store that information\n",
    "\n",
    "def trans_check(df, column_name, character):\n",
    "    # Check if the character exists in the column\n",
    "    df['transaction_type'] = df[column_name].apply(lambda x: 'cancelled' if character in str(x) else 'sale')\n",
    "    return df\n",
    "\n",
    "# Applying the above function\n",
    "df = trans_check(df, 'InvoiceNo', 'C')"
   ]
  },
  {
   "cell_type": "code",
   "execution_count": 18,
   "id": "7cb325f5",
   "metadata": {},
   "outputs": [
    {
     "data": {
      "text/html": [
       "<div>\n",
       "<style scoped>\n",
       "    .dataframe tbody tr th:only-of-type {\n",
       "        vertical-align: middle;\n",
       "    }\n",
       "\n",
       "    .dataframe tbody tr th {\n",
       "        vertical-align: top;\n",
       "    }\n",
       "\n",
       "    .dataframe thead th {\n",
       "        text-align: right;\n",
       "    }\n",
       "</style>\n",
       "<table border=\"1\" class=\"dataframe\">\n",
       "  <thead>\n",
       "    <tr style=\"text-align: right;\">\n",
       "      <th></th>\n",
       "      <th>InvoiceNo</th>\n",
       "      <th>StockCode</th>\n",
       "      <th>Description</th>\n",
       "      <th>Quantity</th>\n",
       "      <th>InvoiceDate</th>\n",
       "      <th>UnitPrice</th>\n",
       "      <th>CustomerID</th>\n",
       "      <th>Country</th>\n",
       "      <th>transaction_type</th>\n",
       "    </tr>\n",
       "  </thead>\n",
       "  <tbody>\n",
       "    <tr>\n",
       "      <th>0</th>\n",
       "      <td>536365</td>\n",
       "      <td>85123A</td>\n",
       "      <td>WHITE HANGING HEART T-LIGHT HOLDER</td>\n",
       "      <td>6</td>\n",
       "      <td>2010-12-01 08:26:00</td>\n",
       "      <td>2.55</td>\n",
       "      <td>17850</td>\n",
       "      <td>United Kingdom</td>\n",
       "      <td>sale</td>\n",
       "    </tr>\n",
       "    <tr>\n",
       "      <th>1</th>\n",
       "      <td>536365</td>\n",
       "      <td>71053</td>\n",
       "      <td>WHITE METAL LANTERN</td>\n",
       "      <td>6</td>\n",
       "      <td>2010-12-01 08:26:00</td>\n",
       "      <td>3.39</td>\n",
       "      <td>17850</td>\n",
       "      <td>United Kingdom</td>\n",
       "      <td>sale</td>\n",
       "    </tr>\n",
       "    <tr>\n",
       "      <th>2</th>\n",
       "      <td>536365</td>\n",
       "      <td>84406B</td>\n",
       "      <td>CREAM CUPID HEARTS COAT HANGER</td>\n",
       "      <td>8</td>\n",
       "      <td>2010-12-01 08:26:00</td>\n",
       "      <td>2.75</td>\n",
       "      <td>17850</td>\n",
       "      <td>United Kingdom</td>\n",
       "      <td>sale</td>\n",
       "    </tr>\n",
       "    <tr>\n",
       "      <th>3</th>\n",
       "      <td>536365</td>\n",
       "      <td>84029G</td>\n",
       "      <td>KNITTED UNION FLAG HOT WATER BOTTLE</td>\n",
       "      <td>6</td>\n",
       "      <td>2010-12-01 08:26:00</td>\n",
       "      <td>3.39</td>\n",
       "      <td>17850</td>\n",
       "      <td>United Kingdom</td>\n",
       "      <td>sale</td>\n",
       "    </tr>\n",
       "    <tr>\n",
       "      <th>4</th>\n",
       "      <td>536365</td>\n",
       "      <td>84029E</td>\n",
       "      <td>RED WOOLLY HOTTIE WHITE HEART.</td>\n",
       "      <td>6</td>\n",
       "      <td>2010-12-01 08:26:00</td>\n",
       "      <td>3.39</td>\n",
       "      <td>17850</td>\n",
       "      <td>United Kingdom</td>\n",
       "      <td>sale</td>\n",
       "    </tr>\n",
       "    <tr>\n",
       "      <th>5</th>\n",
       "      <td>536365</td>\n",
       "      <td>22752</td>\n",
       "      <td>SET 7 BABUSHKA NESTING BOXES</td>\n",
       "      <td>2</td>\n",
       "      <td>2010-12-01 08:26:00</td>\n",
       "      <td>7.65</td>\n",
       "      <td>17850</td>\n",
       "      <td>United Kingdom</td>\n",
       "      <td>sale</td>\n",
       "    </tr>\n",
       "    <tr>\n",
       "      <th>6</th>\n",
       "      <td>536365</td>\n",
       "      <td>21730</td>\n",
       "      <td>GLASS STAR FROSTED T-LIGHT HOLDER</td>\n",
       "      <td>6</td>\n",
       "      <td>2010-12-01 08:26:00</td>\n",
       "      <td>4.25</td>\n",
       "      <td>17850</td>\n",
       "      <td>United Kingdom</td>\n",
       "      <td>sale</td>\n",
       "    </tr>\n",
       "    <tr>\n",
       "      <th>7</th>\n",
       "      <td>536366</td>\n",
       "      <td>22633</td>\n",
       "      <td>HAND WARMER UNION JACK</td>\n",
       "      <td>6</td>\n",
       "      <td>2010-12-01 08:28:00</td>\n",
       "      <td>1.85</td>\n",
       "      <td>17850</td>\n",
       "      <td>United Kingdom</td>\n",
       "      <td>sale</td>\n",
       "    </tr>\n",
       "    <tr>\n",
       "      <th>8</th>\n",
       "      <td>536366</td>\n",
       "      <td>22632</td>\n",
       "      <td>HAND WARMER RED POLKA DOT</td>\n",
       "      <td>6</td>\n",
       "      <td>2010-12-01 08:28:00</td>\n",
       "      <td>1.85</td>\n",
       "      <td>17850</td>\n",
       "      <td>United Kingdom</td>\n",
       "      <td>sale</td>\n",
       "    </tr>\n",
       "    <tr>\n",
       "      <th>9</th>\n",
       "      <td>536367</td>\n",
       "      <td>84879</td>\n",
       "      <td>ASSORTED COLOUR BIRD ORNAMENT</td>\n",
       "      <td>32</td>\n",
       "      <td>2010-12-01 08:34:00</td>\n",
       "      <td>1.69</td>\n",
       "      <td>13047</td>\n",
       "      <td>United Kingdom</td>\n",
       "      <td>sale</td>\n",
       "    </tr>\n",
       "  </tbody>\n",
       "</table>\n",
       "</div>"
      ],
      "text/plain": [
       "  InvoiceNo StockCode                          Description  Quantity  \\\n",
       "0    536365    85123A   WHITE HANGING HEART T-LIGHT HOLDER         6   \n",
       "1    536365     71053                  WHITE METAL LANTERN         6   \n",
       "2    536365    84406B       CREAM CUPID HEARTS COAT HANGER         8   \n",
       "3    536365    84029G  KNITTED UNION FLAG HOT WATER BOTTLE         6   \n",
       "4    536365    84029E       RED WOOLLY HOTTIE WHITE HEART.         6   \n",
       "5    536365     22752         SET 7 BABUSHKA NESTING BOXES         2   \n",
       "6    536365     21730    GLASS STAR FROSTED T-LIGHT HOLDER         6   \n",
       "7    536366     22633               HAND WARMER UNION JACK         6   \n",
       "8    536366     22632            HAND WARMER RED POLKA DOT         6   \n",
       "9    536367     84879        ASSORTED COLOUR BIRD ORNAMENT        32   \n",
       "\n",
       "          InvoiceDate  UnitPrice  CustomerID         Country transaction_type  \n",
       "0 2010-12-01 08:26:00       2.55       17850  United Kingdom             sale  \n",
       "1 2010-12-01 08:26:00       3.39       17850  United Kingdom             sale  \n",
       "2 2010-12-01 08:26:00       2.75       17850  United Kingdom             sale  \n",
       "3 2010-12-01 08:26:00       3.39       17850  United Kingdom             sale  \n",
       "4 2010-12-01 08:26:00       3.39       17850  United Kingdom             sale  \n",
       "5 2010-12-01 08:26:00       7.65       17850  United Kingdom             sale  \n",
       "6 2010-12-01 08:26:00       4.25       17850  United Kingdom             sale  \n",
       "7 2010-12-01 08:28:00       1.85       17850  United Kingdom             sale  \n",
       "8 2010-12-01 08:28:00       1.85       17850  United Kingdom             sale  \n",
       "9 2010-12-01 08:34:00       1.69       13047  United Kingdom             sale  "
      ]
     },
     "execution_count": 18,
     "metadata": {},
     "output_type": "execute_result"
    }
   ],
   "source": [
    "# Checking if the changes were made\n",
    "df.head(10)"
   ]
  },
  {
   "cell_type": "code",
   "execution_count": 19,
   "id": "4aa814c0",
   "metadata": {
    "scrolled": true
   },
   "outputs": [
    {
     "data": {
      "text/plain": [
       "141       -1\n",
       "154       -1\n",
       "235      -12\n",
       "236      -24\n",
       "237      -24\n",
       "          ..\n",
       "540449   -11\n",
       "541541    -1\n",
       "541715    -5\n",
       "541716    -1\n",
       "541717    -5\n",
       "Name: Quantity, Length: 8905, dtype: int64"
      ]
     },
     "execution_count": 19,
     "metadata": {},
     "output_type": "execute_result"
    }
   ],
   "source": [
    "# Checking the number of negative values or entries in the quantity column\n",
    "\n",
    "negative_values = df[df['Quantity'] < 0]['Quantity']\n",
    "negative_values"
   ]
  },
  {
   "cell_type": "markdown",
   "id": "170279d6",
   "metadata": {},
   "source": [
    "__The above output shows a total of _8905_ values or entries with negative values. This corresponds to the number of cancelled transactions in the dataset.__"
   ]
  },
  {
   "cell_type": "code",
   "execution_count": 20,
   "id": "131cbd8c",
   "metadata": {},
   "outputs": [
    {
     "data": {
      "text/plain": [
       "Series([], Name: UnitPrice, dtype: float64)"
      ]
     },
     "execution_count": 20,
     "metadata": {},
     "output_type": "execute_result"
    }
   ],
   "source": [
    "# Checking the number of negative values or entries in the \"UnitPrice\" column\n",
    "\n",
    "neg_values = df[df['UnitPrice'] < 0]['UnitPrice']\n",
    "neg_values"
   ]
  },
  {
   "cell_type": "markdown",
   "id": "bc1f4569",
   "metadata": {},
   "source": [
    "__For the \"UnitPrice\" column, there are no negative values or entries.__"
   ]
  },
  {
   "cell_type": "markdown",
   "id": "e9805509",
   "metadata": {},
   "source": [
    "__Since we know that all negative values in the \"Qunatity\" correspond to cancelled transactions in the \"transaction_type\" column, we can remove the negative signs from the vlaues in that column by using the `absolute` function.\n",
    "The letter \"C\" that starts the invoice numbers in the \"InvoiceNo\" column can also be taken off.__"
   ]
  },
  {
   "cell_type": "code",
   "execution_count": 21,
   "id": "5a2cc07f",
   "metadata": {},
   "outputs": [],
   "source": [
    "# Changing datatype of the customer Id column to float\n",
    "df['CustomerID'] = df['CustomerID'].astype(int)"
   ]
  },
  {
   "cell_type": "code",
   "execution_count": 22,
   "id": "b9830ab4",
   "metadata": {},
   "outputs": [
    {
     "name": "stdout",
     "output_type": "stream",
     "text": [
      "<class 'pandas.core.frame.DataFrame'>\n",
      "Index: 406829 entries, 0 to 541908\n",
      "Data columns (total 9 columns):\n",
      " #   Column            Non-Null Count   Dtype         \n",
      "---  ------            --------------   -----         \n",
      " 0   InvoiceNo         406829 non-null  object        \n",
      " 1   StockCode         406829 non-null  object        \n",
      " 2   Description       406829 non-null  object        \n",
      " 3   Quantity          406829 non-null  int64         \n",
      " 4   InvoiceDate       406829 non-null  datetime64[ns]\n",
      " 5   UnitPrice         406829 non-null  float64       \n",
      " 6   CustomerID        406829 non-null  int32         \n",
      " 7   Country           406829 non-null  object        \n",
      " 8   transaction_type  406829 non-null  object        \n",
      "dtypes: datetime64[ns](1), float64(1), int32(1), int64(1), object(5)\n",
      "memory usage: 29.5+ MB\n"
     ]
    }
   ],
   "source": [
    "df.info()"
   ]
  },
  {
   "cell_type": "code",
   "execution_count": 23,
   "id": "e7831528",
   "metadata": {},
   "outputs": [
    {
     "data": {
      "text/plain": [
       "Series([], Name: InvoiceNo, dtype: object)"
      ]
     },
     "execution_count": 23,
     "metadata": {},
     "output_type": "execute_result"
    }
   ],
   "source": [
    "# Retrieve entries in the 'InvoiceNo' column that have NaN values\n",
    "\n",
    "nan_values = df[df['InvoiceNo'].isna()]['InvoiceNo']\n",
    "nan_values"
   ]
  },
  {
   "cell_type": "code",
   "execution_count": 24,
   "id": "b3a7a5de",
   "metadata": {},
   "outputs": [],
   "source": [
    "# Check if values in 'InvoiceNo' column contain the character 'C'\n",
    "mask = df['InvoiceNo'].str.contains('C', na=False)\n",
    "\n",
    "# Remove the character 'C' from values in 'InvoiceNo'\n",
    "df.loc[mask, 'InvoiceNo'] = df.loc[mask, 'InvoiceNo'].str.replace('C', '')"
   ]
  },
  {
   "cell_type": "code",
   "execution_count": 25,
   "id": "e91d19df",
   "metadata": {},
   "outputs": [
    {
     "name": "stdout",
     "output_type": "stream",
     "text": [
      "       InvoiceNo StockCode                          Description  Quantity  \\\n",
      "0         536365    85123A   WHITE HANGING HEART T-LIGHT HOLDER         6   \n",
      "1         536365     71053                  WHITE METAL LANTERN         6   \n",
      "2         536365    84406B       CREAM CUPID HEARTS COAT HANGER         8   \n",
      "3         536365    84029G  KNITTED UNION FLAG HOT WATER BOTTLE         6   \n",
      "4         536365    84029E       RED WOOLLY HOTTIE WHITE HEART.         6   \n",
      "...          ...       ...                                  ...       ...   \n",
      "541904    581587     22613          PACK OF 20 SPACEBOY NAPKINS        12   \n",
      "541905    581587     22899         CHILDREN'S APRON DOLLY GIRL          6   \n",
      "541906    581587     23254        CHILDRENS CUTLERY DOLLY GIRL          4   \n",
      "541907    581587     23255      CHILDRENS CUTLERY CIRCUS PARADE         4   \n",
      "541908    581587     22138        BAKING SET 9 PIECE RETROSPOT          3   \n",
      "\n",
      "               InvoiceDate  UnitPrice  CustomerID         Country  \\\n",
      "0      2010-12-01 08:26:00       2.55       17850  United Kingdom   \n",
      "1      2010-12-01 08:26:00       3.39       17850  United Kingdom   \n",
      "2      2010-12-01 08:26:00       2.75       17850  United Kingdom   \n",
      "3      2010-12-01 08:26:00       3.39       17850  United Kingdom   \n",
      "4      2010-12-01 08:26:00       3.39       17850  United Kingdom   \n",
      "...                    ...        ...         ...             ...   \n",
      "541904 2011-12-09 12:50:00       0.85       12680          France   \n",
      "541905 2011-12-09 12:50:00       2.10       12680          France   \n",
      "541906 2011-12-09 12:50:00       4.15       12680          France   \n",
      "541907 2011-12-09 12:50:00       4.15       12680          France   \n",
      "541908 2011-12-09 12:50:00       4.95       12680          France   \n",
      "\n",
      "       transaction_type  \n",
      "0                  sale  \n",
      "1                  sale  \n",
      "2                  sale  \n",
      "3                  sale  \n",
      "4                  sale  \n",
      "...                 ...  \n",
      "541904             sale  \n",
      "541905             sale  \n",
      "541906             sale  \n",
      "541907             sale  \n",
      "541908             sale  \n",
      "\n",
      "[406829 rows x 9 columns]\n"
     ]
    }
   ],
   "source": [
    "# Print the modified DataFrame\n",
    "print(df)"
   ]
  },
  {
   "cell_type": "code",
   "execution_count": 26,
   "id": "0b068148",
   "metadata": {},
   "outputs": [],
   "source": [
    "# Lets check and filter out non-digit values in the \"InvoiceNo\" column\n",
    "# Lets import the RegEx module\n",
    "import re\n",
    "\n",
    "# Lets create a pattern that matches any non-digit character values\n",
    "pattern = r'\\D'\n",
    "\n",
    "# Lets use the str.contains method with the regular expression pattern to create a boolean mask\n",
    "mask = df['InvoiceNo'].str.contains(pattern, na = False)\n",
    "non_digit = df[mask]"
   ]
  },
  {
   "cell_type": "code",
   "execution_count": 27,
   "id": "98a3ae48",
   "metadata": {},
   "outputs": [
    {
     "name": "stdout",
     "output_type": "stream",
     "text": [
      "Empty DataFrame\n",
      "Columns: [InvoiceNo, StockCode, Description, Quantity, InvoiceDate, UnitPrice, CustomerID, Country, transaction_type]\n",
      "Index: []\n"
     ]
    }
   ],
   "source": [
    "# Lets print out the new non-digit dataframe\n",
    "print(non_digit)"
   ]
  },
  {
   "cell_type": "markdown",
   "id": "6a5bdc31",
   "metadata": {},
   "source": [
    "__The output above showed no results__"
   ]
  },
  {
   "cell_type": "code",
   "execution_count": 28,
   "id": "9c995a0d",
   "metadata": {},
   "outputs": [
    {
     "name": "stdout",
     "output_type": "stream",
     "text": [
      "Empty DataFrame\n",
      "Columns: [InvoiceNo, StockCode, Description, Quantity, InvoiceDate, UnitPrice, CustomerID, Country, transaction_type]\n",
      "Index: []\n"
     ]
    }
   ],
   "source": [
    "# lets use a different approach to confirm the above results\n",
    "# First lets check for Na/Nan Values in the InvoiceNo column\n",
    "\n",
    "nan_values = df['InvoiceNo'].isna()\n",
    "nan_results = df[nan_values]\n",
    "print(nan_results)"
   ]
  },
  {
   "cell_type": "markdown",
   "id": "c868d8d3",
   "metadata": {},
   "source": [
    "__For the \"InvoiceNo\" column there are no non-digit values and also no Na/Nan Values__"
   ]
  },
  {
   "cell_type": "code",
   "execution_count": 29,
   "id": "4a0f1d7a",
   "metadata": {},
   "outputs": [],
   "source": [
    "# Lets convert the \"InvoiceNo\" column datatype from float to integer\n",
    "\n",
    "df['InvoiceNo'] = df['InvoiceNo'].astype(int)"
   ]
  },
  {
   "cell_type": "code",
   "execution_count": 30,
   "id": "4c93eb45",
   "metadata": {},
   "outputs": [
    {
     "name": "stdout",
     "output_type": "stream",
     "text": [
      "<class 'pandas.core.frame.DataFrame'>\n",
      "Index: 406829 entries, 0 to 541908\n",
      "Data columns (total 9 columns):\n",
      " #   Column            Non-Null Count   Dtype         \n",
      "---  ------            --------------   -----         \n",
      " 0   InvoiceNo         406829 non-null  int32         \n",
      " 1   StockCode         406829 non-null  object        \n",
      " 2   Description       406829 non-null  object        \n",
      " 3   Quantity          406829 non-null  int64         \n",
      " 4   InvoiceDate       406829 non-null  datetime64[ns]\n",
      " 5   UnitPrice         406829 non-null  float64       \n",
      " 6   CustomerID        406829 non-null  int32         \n",
      " 7   Country           406829 non-null  object        \n",
      " 8   transaction_type  406829 non-null  object        \n",
      "dtypes: datetime64[ns](1), float64(1), int32(2), int64(1), object(4)\n",
      "memory usage: 27.9+ MB\n"
     ]
    }
   ],
   "source": [
    "df.info()"
   ]
  },
  {
   "cell_type": "code",
   "execution_count": 31,
   "id": "91c40ab4",
   "metadata": {},
   "outputs": [
    {
     "data": {
      "text/html": [
       "<div>\n",
       "<style scoped>\n",
       "    .dataframe tbody tr th:only-of-type {\n",
       "        vertical-align: middle;\n",
       "    }\n",
       "\n",
       "    .dataframe tbody tr th {\n",
       "        vertical-align: top;\n",
       "    }\n",
       "\n",
       "    .dataframe thead th {\n",
       "        text-align: right;\n",
       "    }\n",
       "</style>\n",
       "<table border=\"1\" class=\"dataframe\">\n",
       "  <thead>\n",
       "    <tr style=\"text-align: right;\">\n",
       "      <th></th>\n",
       "      <th>InvoiceNo</th>\n",
       "      <th>StockCode</th>\n",
       "      <th>Description</th>\n",
       "      <th>Quantity</th>\n",
       "      <th>InvoiceDate</th>\n",
       "      <th>UnitPrice</th>\n",
       "      <th>CustomerID</th>\n",
       "      <th>Country</th>\n",
       "      <th>transaction_type</th>\n",
       "    </tr>\n",
       "  </thead>\n",
       "  <tbody>\n",
       "    <tr>\n",
       "      <th>0</th>\n",
       "      <td>536365</td>\n",
       "      <td>85123A</td>\n",
       "      <td>WHITE HANGING HEART T-LIGHT HOLDER</td>\n",
       "      <td>6</td>\n",
       "      <td>2010-12-01 08:26:00</td>\n",
       "      <td>2.55</td>\n",
       "      <td>17850</td>\n",
       "      <td>United Kingdom</td>\n",
       "      <td>sale</td>\n",
       "    </tr>\n",
       "    <tr>\n",
       "      <th>1</th>\n",
       "      <td>536365</td>\n",
       "      <td>71053</td>\n",
       "      <td>WHITE METAL LANTERN</td>\n",
       "      <td>6</td>\n",
       "      <td>2010-12-01 08:26:00</td>\n",
       "      <td>3.39</td>\n",
       "      <td>17850</td>\n",
       "      <td>United Kingdom</td>\n",
       "      <td>sale</td>\n",
       "    </tr>\n",
       "    <tr>\n",
       "      <th>2</th>\n",
       "      <td>536365</td>\n",
       "      <td>84406B</td>\n",
       "      <td>CREAM CUPID HEARTS COAT HANGER</td>\n",
       "      <td>8</td>\n",
       "      <td>2010-12-01 08:26:00</td>\n",
       "      <td>2.75</td>\n",
       "      <td>17850</td>\n",
       "      <td>United Kingdom</td>\n",
       "      <td>sale</td>\n",
       "    </tr>\n",
       "    <tr>\n",
       "      <th>3</th>\n",
       "      <td>536365</td>\n",
       "      <td>84029G</td>\n",
       "      <td>KNITTED UNION FLAG HOT WATER BOTTLE</td>\n",
       "      <td>6</td>\n",
       "      <td>2010-12-01 08:26:00</td>\n",
       "      <td>3.39</td>\n",
       "      <td>17850</td>\n",
       "      <td>United Kingdom</td>\n",
       "      <td>sale</td>\n",
       "    </tr>\n",
       "    <tr>\n",
       "      <th>4</th>\n",
       "      <td>536365</td>\n",
       "      <td>84029E</td>\n",
       "      <td>RED WOOLLY HOTTIE WHITE HEART.</td>\n",
       "      <td>6</td>\n",
       "      <td>2010-12-01 08:26:00</td>\n",
       "      <td>3.39</td>\n",
       "      <td>17850</td>\n",
       "      <td>United Kingdom</td>\n",
       "      <td>sale</td>\n",
       "    </tr>\n",
       "    <tr>\n",
       "      <th>5</th>\n",
       "      <td>536365</td>\n",
       "      <td>22752</td>\n",
       "      <td>SET 7 BABUSHKA NESTING BOXES</td>\n",
       "      <td>2</td>\n",
       "      <td>2010-12-01 08:26:00</td>\n",
       "      <td>7.65</td>\n",
       "      <td>17850</td>\n",
       "      <td>United Kingdom</td>\n",
       "      <td>sale</td>\n",
       "    </tr>\n",
       "    <tr>\n",
       "      <th>6</th>\n",
       "      <td>536365</td>\n",
       "      <td>21730</td>\n",
       "      <td>GLASS STAR FROSTED T-LIGHT HOLDER</td>\n",
       "      <td>6</td>\n",
       "      <td>2010-12-01 08:26:00</td>\n",
       "      <td>4.25</td>\n",
       "      <td>17850</td>\n",
       "      <td>United Kingdom</td>\n",
       "      <td>sale</td>\n",
       "    </tr>\n",
       "    <tr>\n",
       "      <th>7</th>\n",
       "      <td>536366</td>\n",
       "      <td>22633</td>\n",
       "      <td>HAND WARMER UNION JACK</td>\n",
       "      <td>6</td>\n",
       "      <td>2010-12-01 08:28:00</td>\n",
       "      <td>1.85</td>\n",
       "      <td>17850</td>\n",
       "      <td>United Kingdom</td>\n",
       "      <td>sale</td>\n",
       "    </tr>\n",
       "    <tr>\n",
       "      <th>8</th>\n",
       "      <td>536366</td>\n",
       "      <td>22632</td>\n",
       "      <td>HAND WARMER RED POLKA DOT</td>\n",
       "      <td>6</td>\n",
       "      <td>2010-12-01 08:28:00</td>\n",
       "      <td>1.85</td>\n",
       "      <td>17850</td>\n",
       "      <td>United Kingdom</td>\n",
       "      <td>sale</td>\n",
       "    </tr>\n",
       "    <tr>\n",
       "      <th>9</th>\n",
       "      <td>536367</td>\n",
       "      <td>84879</td>\n",
       "      <td>ASSORTED COLOUR BIRD ORNAMENT</td>\n",
       "      <td>32</td>\n",
       "      <td>2010-12-01 08:34:00</td>\n",
       "      <td>1.69</td>\n",
       "      <td>13047</td>\n",
       "      <td>United Kingdom</td>\n",
       "      <td>sale</td>\n",
       "    </tr>\n",
       "  </tbody>\n",
       "</table>\n",
       "</div>"
      ],
      "text/plain": [
       "   InvoiceNo StockCode                          Description  Quantity  \\\n",
       "0     536365    85123A   WHITE HANGING HEART T-LIGHT HOLDER         6   \n",
       "1     536365     71053                  WHITE METAL LANTERN         6   \n",
       "2     536365    84406B       CREAM CUPID HEARTS COAT HANGER         8   \n",
       "3     536365    84029G  KNITTED UNION FLAG HOT WATER BOTTLE         6   \n",
       "4     536365    84029E       RED WOOLLY HOTTIE WHITE HEART.         6   \n",
       "5     536365     22752         SET 7 BABUSHKA NESTING BOXES         2   \n",
       "6     536365     21730    GLASS STAR FROSTED T-LIGHT HOLDER         6   \n",
       "7     536366     22633               HAND WARMER UNION JACK         6   \n",
       "8     536366     22632            HAND WARMER RED POLKA DOT         6   \n",
       "9     536367     84879        ASSORTED COLOUR BIRD ORNAMENT        32   \n",
       "\n",
       "          InvoiceDate  UnitPrice  CustomerID         Country transaction_type  \n",
       "0 2010-12-01 08:26:00       2.55       17850  United Kingdom             sale  \n",
       "1 2010-12-01 08:26:00       3.39       17850  United Kingdom             sale  \n",
       "2 2010-12-01 08:26:00       2.75       17850  United Kingdom             sale  \n",
       "3 2010-12-01 08:26:00       3.39       17850  United Kingdom             sale  \n",
       "4 2010-12-01 08:26:00       3.39       17850  United Kingdom             sale  \n",
       "5 2010-12-01 08:26:00       7.65       17850  United Kingdom             sale  \n",
       "6 2010-12-01 08:26:00       4.25       17850  United Kingdom             sale  \n",
       "7 2010-12-01 08:28:00       1.85       17850  United Kingdom             sale  \n",
       "8 2010-12-01 08:28:00       1.85       17850  United Kingdom             sale  \n",
       "9 2010-12-01 08:34:00       1.69       13047  United Kingdom             sale  "
      ]
     },
     "execution_count": 31,
     "metadata": {},
     "output_type": "execute_result"
    }
   ],
   "source": [
    "df.head(10)"
   ]
  },
  {
   "cell_type": "markdown",
   "id": "66146c19",
   "metadata": {},
   "source": [
    "__From the Dataset description, \"StockCode\" is a 5-digit number uniquely assigned to each distinct product. Will remove any trailing letters from the StockCode and convert the column to an integer datatype__"
   ]
  },
  {
   "cell_type": "code",
   "execution_count": 32,
   "id": "9fbd4ade",
   "metadata": {},
   "outputs": [
    {
     "name": "stdout",
     "output_type": "stream",
     "text": [
      "        InvoiceNo StockCode                          Description  Quantity  \\\n",
      "0          536365    85123A   WHITE HANGING HEART T-LIGHT HOLDER         6   \n",
      "2          536365    84406B       CREAM CUPID HEARTS COAT HANGER         8   \n",
      "3          536365    84029G  KNITTED UNION FLAG HOT WATER BOTTLE         6   \n",
      "4          536365    84029E       RED WOOLLY HOTTIE WHITE HEART.         6   \n",
      "45         536370      POST                              POSTAGE         3   \n",
      "...           ...       ...                                  ...       ...   \n",
      "541778     581578    84997C      CHILDRENS CUTLERY POLKADOT BLUE         8   \n",
      "541809     581579    85099C       JUMBO  BAG BAROQUE BLACK WHITE        10   \n",
      "541838     581580    84993A            75 GREEN PETIT FOUR CASES         2   \n",
      "541844     581580    85049A        TRADITIONAL CHRISTMAS RIBBONS         1   \n",
      "541853     581580    85049E            SCANDINAVIAN REDS RIBBONS         2   \n",
      "\n",
      "               InvoiceDate  UnitPrice  CustomerID         Country  \\\n",
      "0      2010-12-01 08:26:00       2.55       17850  United Kingdom   \n",
      "2      2010-12-01 08:26:00       2.75       17850  United Kingdom   \n",
      "3      2010-12-01 08:26:00       3.39       17850  United Kingdom   \n",
      "4      2010-12-01 08:26:00       3.39       17850  United Kingdom   \n",
      "45     2010-12-01 08:45:00      18.00       12583          France   \n",
      "...                    ...        ...         ...             ...   \n",
      "541778 2011-12-09 12:16:00       4.15       12713         Germany   \n",
      "541809 2011-12-09 12:19:00       1.79       17581  United Kingdom   \n",
      "541838 2011-12-09 12:20:00       0.42       12748  United Kingdom   \n",
      "541844 2011-12-09 12:20:00       1.25       12748  United Kingdom   \n",
      "541853 2011-12-09 12:20:00       1.25       12748  United Kingdom   \n",
      "\n",
      "       transaction_type  \n",
      "0                  sale  \n",
      "2                  sale  \n",
      "3                  sale  \n",
      "4                  sale  \n",
      "45                 sale  \n",
      "...                 ...  \n",
      "541778             sale  \n",
      "541809             sale  \n",
      "541838             sale  \n",
      "541844             sale  \n",
      "541853             sale  \n",
      "\n",
      "[35675 rows x 9 columns]\n"
     ]
    }
   ],
   "source": [
    "# Lets remove any trailing letters from the end of the StockCodes\n",
    "# Retrieve all StockCode values that have trailing letters\n",
    "\n",
    "filtered_stock_values = df[df['StockCode'].str.contains('.*[a-zA-Z]$', na = False)]\n",
    "print(filtered_stock_values)"
   ]
  },
  {
   "cell_type": "markdown",
   "id": "1ce8ac00",
   "metadata": {},
   "source": [
    "__We have 35675 values in the StockCode column that have letters at the end of the value__"
   ]
  },
  {
   "cell_type": "code",
   "execution_count": 33,
   "id": "db5436f6",
   "metadata": {},
   "outputs": [
    {
     "name": "stdout",
     "output_type": "stream",
     "text": [
      "        InvoiceNo StockCode                          Description  Quantity  \\\n",
      "0          536365     85123   WHITE HANGING HEART T-LIGHT HOLDER         6   \n",
      "1          536365     71053                  WHITE METAL LANTERN         6   \n",
      "2          536365     84406       CREAM CUPID HEARTS COAT HANGER         8   \n",
      "3          536365     84029  KNITTED UNION FLAG HOT WATER BOTTLE         6   \n",
      "4          536365     84029       RED WOOLLY HOTTIE WHITE HEART.         6   \n",
      "...           ...       ...                                  ...       ...   \n",
      "541904     581587     22613          PACK OF 20 SPACEBOY NAPKINS        12   \n",
      "541905     581587     22899         CHILDREN'S APRON DOLLY GIRL          6   \n",
      "541906     581587     23254        CHILDRENS CUTLERY DOLLY GIRL          4   \n",
      "541907     581587     23255      CHILDRENS CUTLERY CIRCUS PARADE         4   \n",
      "541908     581587     22138        BAKING SET 9 PIECE RETROSPOT          3   \n",
      "\n",
      "               InvoiceDate  UnitPrice  CustomerID         Country  \\\n",
      "0      2010-12-01 08:26:00       2.55       17850  United Kingdom   \n",
      "1      2010-12-01 08:26:00       3.39       17850  United Kingdom   \n",
      "2      2010-12-01 08:26:00       2.75       17850  United Kingdom   \n",
      "3      2010-12-01 08:26:00       3.39       17850  United Kingdom   \n",
      "4      2010-12-01 08:26:00       3.39       17850  United Kingdom   \n",
      "...                    ...        ...         ...             ...   \n",
      "541904 2011-12-09 12:50:00       0.85       12680          France   \n",
      "541905 2011-12-09 12:50:00       2.10       12680          France   \n",
      "541906 2011-12-09 12:50:00       4.15       12680          France   \n",
      "541907 2011-12-09 12:50:00       4.15       12680          France   \n",
      "541908 2011-12-09 12:50:00       4.95       12680          France   \n",
      "\n",
      "       transaction_type  \n",
      "0                  sale  \n",
      "1                  sale  \n",
      "2                  sale  \n",
      "3                  sale  \n",
      "4                  sale  \n",
      "...                 ...  \n",
      "541904             sale  \n",
      "541905             sale  \n",
      "541906             sale  \n",
      "541907             sale  \n",
      "541908             sale  \n",
      "\n",
      "[406829 rows x 9 columns]\n"
     ]
    }
   ],
   "source": [
    "# Lets remove all the trailing letters from our values in the 'StockCode'column\n",
    "# Lets define a function to remove the trailing letters from the end of the values\n",
    "\n",
    "def remove_trailing_letter(value):\n",
    "    if isinstance(value, str) and value[-1].isalpha():\n",
    "        return value[:-1]\n",
    "    return value\n",
    "\n",
    "# Lets apply the above function on the 'StcokCode' column\n",
    "\n",
    "column_name = 'StockCode'\n",
    "df[column_name] = df[column_name].apply(remove_trailing_letter)\n",
    "print(df)"
   ]
  },
  {
   "cell_type": "code",
   "execution_count": 34,
   "id": "d3081167",
   "metadata": {},
   "outputs": [
    {
     "data": {
      "text/html": [
       "<div>\n",
       "<style scoped>\n",
       "    .dataframe tbody tr th:only-of-type {\n",
       "        vertical-align: middle;\n",
       "    }\n",
       "\n",
       "    .dataframe tbody tr th {\n",
       "        vertical-align: top;\n",
       "    }\n",
       "\n",
       "    .dataframe thead th {\n",
       "        text-align: right;\n",
       "    }\n",
       "</style>\n",
       "<table border=\"1\" class=\"dataframe\">\n",
       "  <thead>\n",
       "    <tr style=\"text-align: right;\">\n",
       "      <th></th>\n",
       "      <th>InvoiceNo</th>\n",
       "      <th>StockCode</th>\n",
       "      <th>Description</th>\n",
       "      <th>Quantity</th>\n",
       "      <th>InvoiceDate</th>\n",
       "      <th>UnitPrice</th>\n",
       "      <th>CustomerID</th>\n",
       "      <th>Country</th>\n",
       "      <th>transaction_type</th>\n",
       "    </tr>\n",
       "  </thead>\n",
       "  <tbody>\n",
       "    <tr>\n",
       "      <th>45</th>\n",
       "      <td>536370</td>\n",
       "      <td>POS</td>\n",
       "      <td>POSTAGE</td>\n",
       "      <td>3</td>\n",
       "      <td>2010-12-01 08:45:00</td>\n",
       "      <td>18.0</td>\n",
       "      <td>12583</td>\n",
       "      <td>France</td>\n",
       "      <td>sale</td>\n",
       "    </tr>\n",
       "    <tr>\n",
       "      <th>386</th>\n",
       "      <td>536403</td>\n",
       "      <td>POS</td>\n",
       "      <td>POSTAGE</td>\n",
       "      <td>1</td>\n",
       "      <td>2010-12-01 11:27:00</td>\n",
       "      <td>15.0</td>\n",
       "      <td>12791</td>\n",
       "      <td>Netherlands</td>\n",
       "      <td>sale</td>\n",
       "    </tr>\n",
       "    <tr>\n",
       "      <th>1123</th>\n",
       "      <td>536527</td>\n",
       "      <td>POS</td>\n",
       "      <td>POSTAGE</td>\n",
       "      <td>1</td>\n",
       "      <td>2010-12-01 13:04:00</td>\n",
       "      <td>18.0</td>\n",
       "      <td>12662</td>\n",
       "      <td>Germany</td>\n",
       "      <td>sale</td>\n",
       "    </tr>\n",
       "    <tr>\n",
       "      <th>5073</th>\n",
       "      <td>536840</td>\n",
       "      <td>POS</td>\n",
       "      <td>POSTAGE</td>\n",
       "      <td>1</td>\n",
       "      <td>2010-12-02 18:27:00</td>\n",
       "      <td>18.0</td>\n",
       "      <td>12738</td>\n",
       "      <td>Germany</td>\n",
       "      <td>sale</td>\n",
       "    </tr>\n",
       "    <tr>\n",
       "      <th>5258</th>\n",
       "      <td>536852</td>\n",
       "      <td>POS</td>\n",
       "      <td>POSTAGE</td>\n",
       "      <td>1</td>\n",
       "      <td>2010-12-03 09:51:00</td>\n",
       "      <td>18.0</td>\n",
       "      <td>12686</td>\n",
       "      <td>France</td>\n",
       "      <td>sale</td>\n",
       "    </tr>\n",
       "    <tr>\n",
       "      <th>...</th>\n",
       "      <td>...</td>\n",
       "      <td>...</td>\n",
       "      <td>...</td>\n",
       "      <td>...</td>\n",
       "      <td>...</td>\n",
       "      <td>...</td>\n",
       "      <td>...</td>\n",
       "      <td>...</td>\n",
       "      <td>...</td>\n",
       "    </tr>\n",
       "    <tr>\n",
       "      <th>541198</th>\n",
       "      <td>581493</td>\n",
       "      <td>POS</td>\n",
       "      <td>POSTAGE</td>\n",
       "      <td>1</td>\n",
       "      <td>2011-12-09 10:10:00</td>\n",
       "      <td>15.0</td>\n",
       "      <td>12423</td>\n",
       "      <td>Belgium</td>\n",
       "      <td>sale</td>\n",
       "    </tr>\n",
       "    <tr>\n",
       "      <th>541216</th>\n",
       "      <td>581494</td>\n",
       "      <td>POS</td>\n",
       "      <td>POSTAGE</td>\n",
       "      <td>2</td>\n",
       "      <td>2011-12-09 10:13:00</td>\n",
       "      <td>18.0</td>\n",
       "      <td>12518</td>\n",
       "      <td>Germany</td>\n",
       "      <td>sale</td>\n",
       "    </tr>\n",
       "    <tr>\n",
       "      <th>541730</th>\n",
       "      <td>581570</td>\n",
       "      <td>POS</td>\n",
       "      <td>POSTAGE</td>\n",
       "      <td>1</td>\n",
       "      <td>2011-12-09 11:59:00</td>\n",
       "      <td>18.0</td>\n",
       "      <td>12662</td>\n",
       "      <td>Germany</td>\n",
       "      <td>sale</td>\n",
       "    </tr>\n",
       "    <tr>\n",
       "      <th>541767</th>\n",
       "      <td>581574</td>\n",
       "      <td>POS</td>\n",
       "      <td>POSTAGE</td>\n",
       "      <td>2</td>\n",
       "      <td>2011-12-09 12:09:00</td>\n",
       "      <td>18.0</td>\n",
       "      <td>12526</td>\n",
       "      <td>Germany</td>\n",
       "      <td>sale</td>\n",
       "    </tr>\n",
       "    <tr>\n",
       "      <th>541768</th>\n",
       "      <td>581578</td>\n",
       "      <td>POS</td>\n",
       "      <td>POSTAGE</td>\n",
       "      <td>3</td>\n",
       "      <td>2011-12-09 12:16:00</td>\n",
       "      <td>18.0</td>\n",
       "      <td>12713</td>\n",
       "      <td>Germany</td>\n",
       "      <td>sale</td>\n",
       "    </tr>\n",
       "  </tbody>\n",
       "</table>\n",
       "<p>1232 rows × 9 columns</p>\n",
       "</div>"
      ],
      "text/plain": [
       "        InvoiceNo StockCode Description  Quantity         InvoiceDate  \\\n",
       "45         536370       POS     POSTAGE         3 2010-12-01 08:45:00   \n",
       "386        536403       POS     POSTAGE         1 2010-12-01 11:27:00   \n",
       "1123       536527       POS     POSTAGE         1 2010-12-01 13:04:00   \n",
       "5073       536840       POS     POSTAGE         1 2010-12-02 18:27:00   \n",
       "5258       536852       POS     POSTAGE         1 2010-12-03 09:51:00   \n",
       "...           ...       ...         ...       ...                 ...   \n",
       "541198     581493       POS     POSTAGE         1 2011-12-09 10:10:00   \n",
       "541216     581494       POS     POSTAGE         2 2011-12-09 10:13:00   \n",
       "541730     581570       POS     POSTAGE         1 2011-12-09 11:59:00   \n",
       "541767     581574       POS     POSTAGE         2 2011-12-09 12:09:00   \n",
       "541768     581578       POS     POSTAGE         3 2011-12-09 12:16:00   \n",
       "\n",
       "        UnitPrice  CustomerID      Country transaction_type  \n",
       "45           18.0       12583       France             sale  \n",
       "386          15.0       12791  Netherlands             sale  \n",
       "1123         18.0       12662      Germany             sale  \n",
       "5073         18.0       12738      Germany             sale  \n",
       "5258         18.0       12686       France             sale  \n",
       "...           ...         ...          ...              ...  \n",
       "541198       15.0       12423      Belgium             sale  \n",
       "541216       18.0       12518      Germany             sale  \n",
       "541730       18.0       12662      Germany             sale  \n",
       "541767       18.0       12526      Germany             sale  \n",
       "541768       18.0       12713      Germany             sale  \n",
       "\n",
       "[1232 rows x 9 columns]"
      ]
     },
     "execution_count": 34,
     "metadata": {},
     "output_type": "execute_result"
    }
   ],
   "source": [
    "# Lets check for values that are not madeup of digits in the 'StockCode' column\n",
    "\n",
    "non_digits = df[df['StockCode'].str.contains('^[a-zA-Z]+$', regex=True, na = False)]\n",
    "non_digits"
   ]
  },
  {
   "cell_type": "code",
   "execution_count": 35,
   "id": "dd98d435",
   "metadata": {},
   "outputs": [
    {
     "name": "stdout",
     "output_type": "stream",
     "text": [
      "        InvoiceNo StockCode                          Description  Quantity  \\\n",
      "0          536365     85123   WHITE HANGING HEART T-LIGHT HOLDER         6   \n",
      "1          536365     71053                  WHITE METAL LANTERN         6   \n",
      "2          536365     84406       CREAM CUPID HEARTS COAT HANGER         8   \n",
      "3          536365     84029  KNITTED UNION FLAG HOT WATER BOTTLE         6   \n",
      "4          536365     84029       RED WOOLLY HOTTIE WHITE HEART.         6   \n",
      "...           ...       ...                                  ...       ...   \n",
      "541904     581587     22613          PACK OF 20 SPACEBOY NAPKINS        12   \n",
      "541905     581587     22899         CHILDREN'S APRON DOLLY GIRL          6   \n",
      "541906     581587     23254        CHILDRENS CUTLERY DOLLY GIRL          4   \n",
      "541907     581587     23255      CHILDRENS CUTLERY CIRCUS PARADE         4   \n",
      "541908     581587     22138        BAKING SET 9 PIECE RETROSPOT          3   \n",
      "\n",
      "               InvoiceDate  UnitPrice  CustomerID         Country  \\\n",
      "0      2010-12-01 08:26:00       2.55       17850  United Kingdom   \n",
      "1      2010-12-01 08:26:00       3.39       17850  United Kingdom   \n",
      "2      2010-12-01 08:26:00       2.75       17850  United Kingdom   \n",
      "3      2010-12-01 08:26:00       3.39       17850  United Kingdom   \n",
      "4      2010-12-01 08:26:00       3.39       17850  United Kingdom   \n",
      "...                    ...        ...         ...             ...   \n",
      "541904 2011-12-09 12:50:00       0.85       12680          France   \n",
      "541905 2011-12-09 12:50:00       2.10       12680          France   \n",
      "541906 2011-12-09 12:50:00       4.15       12680          France   \n",
      "541907 2011-12-09 12:50:00       4.15       12680          France   \n",
      "541908 2011-12-09 12:50:00       4.95       12680          France   \n",
      "\n",
      "       transaction_type  \n",
      "0                  sale  \n",
      "1                  sale  \n",
      "2                  sale  \n",
      "3                  sale  \n",
      "4                  sale  \n",
      "...                 ...  \n",
      "541904             sale  \n",
      "541905             sale  \n",
      "541906             sale  \n",
      "541907             sale  \n",
      "541908             sale  \n",
      "\n",
      "[405597 rows x 9 columns]\n"
     ]
    }
   ],
   "source": [
    "# Lets get the indices of the filtered rows\n",
    "indices_to_drop = non_digits.index\n",
    "\n",
    "# Lets drop the filtered rows from the dataset\n",
    "df.drop(indices_to_drop, inplace = True)\n",
    "print(df)"
   ]
  },
  {
   "cell_type": "code",
   "execution_count": 36,
   "id": "7f597307",
   "metadata": {},
   "outputs": [
    {
     "name": "stdout",
     "output_type": "stream",
     "text": [
      "There are no values in the column with letters.\n"
     ]
    }
   ],
   "source": [
    "# Lets check if there still exist values in the 'StockCode' that are made up of letters or alphabets\n",
    "\n",
    "column_name = 'StockCode'\n",
    "\n",
    "# Lets create a boolean mask indicating which values are not NaN in the specified column\n",
    "not_nan_mask = df[column_name].notna()\n",
    "\n",
    "filtered_values = df[not_nan_mask & df[column_name].str.contains('^[a-zA-Z]+$', regex=True)]\n",
    "\n",
    "# Lets check if there are any rows in the filtered_values DataFrame\n",
    "if not filtered_values.empty:\n",
    "    print(\"There are values in the column with letters.\")\n",
    "else:\n",
    "    print(\"There are no values in the column with letters.\")"
   ]
  },
  {
   "cell_type": "code",
   "execution_count": 37,
   "id": "d69ac389",
   "metadata": {},
   "outputs": [
    {
     "name": "stdout",
     "output_type": "stream",
     "text": [
      "        InvoiceNo  StockCode  Description  Quantity  InvoiceDate  UnitPrice  \\\n",
      "0           False      False        False     False        False      False   \n",
      "1           False      False        False     False        False      False   \n",
      "2           False      False        False     False        False      False   \n",
      "3           False      False        False     False        False      False   \n",
      "4           False      False        False     False        False      False   \n",
      "...           ...        ...          ...       ...          ...        ...   \n",
      "541904      False      False        False     False        False      False   \n",
      "541905      False      False        False     False        False      False   \n",
      "541906      False      False        False     False        False      False   \n",
      "541907      False      False        False     False        False      False   \n",
      "541908      False      False        False     False        False      False   \n",
      "\n",
      "        CustomerID  Country  transaction_type  \n",
      "0            False    False             False  \n",
      "1            False    False             False  \n",
      "2            False    False             False  \n",
      "3            False    False             False  \n",
      "4            False    False             False  \n",
      "...            ...      ...               ...  \n",
      "541904       False    False             False  \n",
      "541905       False    False             False  \n",
      "541906       False    False             False  \n",
      "541907       False    False             False  \n",
      "541908       False    False             False  \n",
      "\n",
      "[405597 rows x 9 columns]\n",
      "There are no NaN values in the DataFrame.\n"
     ]
    }
   ],
   "source": [
    "# Lets check for Na/NaN values in the dataframe\n",
    "\n",
    "nan_values = df.isna()\n",
    "print(nan_values)\n",
    "\n",
    "# Check if there are any NaN values in the entire DataFrame\n",
    "if nan_values.any().any():\n",
    "    print(\"There are NaN values in the DataFrame.\")\n",
    "else:\n",
    "    print(\"There are no NaN values in the DataFrame.\")"
   ]
  },
  {
   "cell_type": "code",
   "execution_count": 38,
   "id": "d83572fc",
   "metadata": {},
   "outputs": [
    {
     "name": "stdout",
     "output_type": "stream",
     "text": [
      "<class 'pandas.core.frame.DataFrame'>\n",
      "Index: 405597 entries, 0 to 541908\n",
      "Data columns (total 9 columns):\n",
      " #   Column            Non-Null Count   Dtype         \n",
      "---  ------            --------------   -----         \n",
      " 0   InvoiceNo         405597 non-null  int32         \n",
      " 1   StockCode         405597 non-null  object        \n",
      " 2   Description       405597 non-null  object        \n",
      " 3   Quantity          405597 non-null  int64         \n",
      " 4   InvoiceDate       405597 non-null  datetime64[ns]\n",
      " 5   UnitPrice         405597 non-null  float64       \n",
      " 6   CustomerID        405597 non-null  int32         \n",
      " 7   Country           405597 non-null  object        \n",
      " 8   transaction_type  405597 non-null  object        \n",
      "dtypes: datetime64[ns](1), float64(1), int32(2), int64(1), object(4)\n",
      "memory usage: 27.9+ MB\n"
     ]
    }
   ],
   "source": [
    "# Lets now convert the 'StockCode' column to an integer datatype\n",
    "df.info()"
   ]
  },
  {
   "cell_type": "code",
   "execution_count": 39,
   "id": "c6fe5a89",
   "metadata": {},
   "outputs": [
    {
     "name": "stdout",
     "output_type": "stream",
     "text": [
      "        InvoiceNo    StockCode              Description  Quantity  \\\n",
      "132        536381       15056B  EDWARDIAN PARASOL BLACK         2   \n",
      "281        536396       15056B  EDWARDIAN PARASOL BLACK         6   \n",
      "1219       536531       15056B  EDWARDIAN PARASOL BLACK        12   \n",
      "1423       536540           C2                 CARRIAGE         1   \n",
      "4164       536750       15056B  EDWARDIAN PARASOL BLACK         6   \n",
      "...           ...          ...                      ...       ...   \n",
      "530982     580893       15056B  EDWARDIAN PARASOL BLACK         1   \n",
      "533673     581098       15056B  EDWARDIAN PARASOL BLACK         6   \n",
      "534008     581127  BANK CHARGE             Bank Charges         1   \n",
      "536964     581232       15056B  EDWARDIAN PARASOL BLACK        24   \n",
      "541223     581495       15056B  EDWARDIAN PARASOL BLACK        36   \n",
      "\n",
      "               InvoiceDate  UnitPrice  CustomerID         Country  \\\n",
      "132    2010-12-01 09:41:00       5.95       15311  United Kingdom   \n",
      "281    2010-12-01 10:51:00       4.95       17850  United Kingdom   \n",
      "1219   2010-12-01 13:23:00       5.95       15485  United Kingdom   \n",
      "1423   2010-12-01 14:05:00      50.00       14911            EIRE   \n",
      "4164   2010-12-02 14:04:00       4.95       17850  United Kingdom   \n",
      "...                    ...        ...         ...             ...   \n",
      "530982 2011-12-06 12:38:00       5.95       17290  United Kingdom   \n",
      "533673 2011-12-07 11:42:00       5.95       14911            EIRE   \n",
      "534008 2011-12-07 12:45:00      15.00       16271  United Kingdom   \n",
      "536964 2011-12-08 10:26:00       5.95       12358         Austria   \n",
      "541223 2011-12-09 10:20:00       5.95       14051  United Kingdom   \n",
      "\n",
      "       transaction_type  \n",
      "132                sale  \n",
      "281                sale  \n",
      "1219               sale  \n",
      "1423               sale  \n",
      "4164               sale  \n",
      "...                 ...  \n",
      "530982             sale  \n",
      "533673             sale  \n",
      "534008             sale  \n",
      "536964             sale  \n",
      "541223             sale  \n",
      "\n",
      "[442 rows x 9 columns]\n"
     ]
    }
   ],
   "source": [
    "# Create a boolean mask to check for non-numeric characters in the specified column\n",
    "\n",
    "column_name = 'StockCode'\n",
    "mask = df[column_name].str.contains(r'\\D', regex=True, na = False)\n",
    "\n",
    "# Use the mask to filter the DataFrame and get rows with non-numeric characters\n",
    "rows_with_non_numeric = df[mask]\n",
    "\n",
    "# Print the rows containing non-numeric characters\n",
    "print(rows_with_non_numeric)"
   ]
  },
  {
   "cell_type": "code",
   "execution_count": 40,
   "id": "44807215",
   "metadata": {},
   "outputs": [
    {
     "data": {
      "text/plain": [
       "array(['15056B', 'C2', 'BANK CHARGE'], dtype=object)"
      ]
     },
     "execution_count": 40,
     "metadata": {},
     "output_type": "execute_result"
    }
   ],
   "source": [
    "rows_with_non_numeric['StockCode'].unique()"
   ]
  },
  {
   "cell_type": "code",
   "execution_count": 41,
   "id": "a99bb01e",
   "metadata": {
    "scrolled": true
   },
   "outputs": [
    {
     "name": "stdout",
     "output_type": "stream",
     "text": [
      "        InvoiceNo StockCode                          Description  Quantity  \\\n",
      "0          536365     85123   WHITE HANGING HEART T-LIGHT HOLDER         6   \n",
      "1          536365     71053                  WHITE METAL LANTERN         6   \n",
      "2          536365     84406       CREAM CUPID HEARTS COAT HANGER         8   \n",
      "3          536365     84029  KNITTED UNION FLAG HOT WATER BOTTLE         6   \n",
      "4          536365     84029       RED WOOLLY HOTTIE WHITE HEART.         6   \n",
      "...           ...       ...                                  ...       ...   \n",
      "541904     581587     22613          PACK OF 20 SPACEBOY NAPKINS        12   \n",
      "541905     581587     22899         CHILDREN'S APRON DOLLY GIRL          6   \n",
      "541906     581587     23254        CHILDRENS CUTLERY DOLLY GIRL          4   \n",
      "541907     581587     23255      CHILDRENS CUTLERY CIRCUS PARADE         4   \n",
      "541908     581587     22138        BAKING SET 9 PIECE RETROSPOT          3   \n",
      "\n",
      "               InvoiceDate  UnitPrice  CustomerID         Country  \\\n",
      "0      2010-12-01 08:26:00       2.55       17850  United Kingdom   \n",
      "1      2010-12-01 08:26:00       3.39       17850  United Kingdom   \n",
      "2      2010-12-01 08:26:00       2.75       17850  United Kingdom   \n",
      "3      2010-12-01 08:26:00       3.39       17850  United Kingdom   \n",
      "4      2010-12-01 08:26:00       3.39       17850  United Kingdom   \n",
      "...                    ...        ...         ...             ...   \n",
      "541904 2011-12-09 12:50:00       0.85       12680          France   \n",
      "541905 2011-12-09 12:50:00       2.10       12680          France   \n",
      "541906 2011-12-09 12:50:00       4.15       12680          France   \n",
      "541907 2011-12-09 12:50:00       4.15       12680          France   \n",
      "541908 2011-12-09 12:50:00       4.95       12680          France   \n",
      "\n",
      "       transaction_type  \n",
      "0                  sale  \n",
      "1                  sale  \n",
      "2                  sale  \n",
      "3                  sale  \n",
      "4                  sale  \n",
      "...                 ...  \n",
      "541904             sale  \n",
      "541905             sale  \n",
      "541906             sale  \n",
      "541907             sale  \n",
      "541908             sale  \n",
      "\n",
      "[405597 rows x 9 columns]\n"
     ]
    }
   ],
   "source": [
    "# Lets delete the trailing 'B' character from all values in the 'StockCode' column that matches the string '15056B'\n",
    "# Using boolean indexing to filter rows with values ending in 'B'\n",
    "\n",
    "mask = df['StockCode'].str.endswith('B', na = False)\n",
    "rows_with_B = df[mask]\n",
    "\n",
    "# Removing the trailing 'B' character using str.rstrip()\n",
    "df.loc[mask, 'StockCode'] = rows_with_B['StockCode'].str.rstrip('B')\n",
    "\n",
    "print(df)"
   ]
  },
  {
   "cell_type": "code",
   "execution_count": 42,
   "id": "6e0dcc18",
   "metadata": {},
   "outputs": [
    {
     "name": "stdout",
     "output_type": "stream",
     "text": [
      "        InvoiceNo    StockCode   Description  Quantity         InvoiceDate  \\\n",
      "1423       536540           C2      CARRIAGE         1 2010-12-01 14:05:00   \n",
      "4406       536779  BANK CHARGE  Bank Charges         1 2010-12-02 15:08:00   \n",
      "12119      537368           C2      CARRIAGE         1 2010-12-06 12:40:00   \n",
      "12452      537378           C2      CARRIAGE         1 2010-12-06 13:06:00   \n",
      "19975      537963           C2      CARRIAGE         1 2010-12-09 11:30:00   \n",
      "...           ...          ...           ...       ...                 ...   \n",
      "515000     579768           C2      CARRIAGE         1 2011-11-30 15:08:00   \n",
      "516484     579910           C2      CARRIAGE         1 2011-12-01 08:52:00   \n",
      "518905     580127           C2      CARRIAGE         1 2011-12-01 17:51:00   \n",
      "524450     580555           C2      CARRIAGE         1 2011-12-05 10:18:00   \n",
      "534008     581127  BANK CHARGE  Bank Charges         1 2011-12-07 12:45:00   \n",
      "\n",
      "        UnitPrice  CustomerID         Country transaction_type  \n",
      "1423         50.0       14911            EIRE             sale  \n",
      "4406         15.0       15823  United Kingdom             sale  \n",
      "12119        50.0       14911            EIRE             sale  \n",
      "12452        50.0       14911            EIRE             sale  \n",
      "19975        50.0       13369  United Kingdom             sale  \n",
      "...           ...         ...             ...              ...  \n",
      "515000       50.0       14911            EIRE             sale  \n",
      "516484       50.0       14911            EIRE             sale  \n",
      "518905       50.0       14911            EIRE             sale  \n",
      "524450       50.0       14911            EIRE             sale  \n",
      "534008       15.0       16271  United Kingdom             sale  \n",
      "\n",
      "[146 rows x 9 columns]\n"
     ]
    }
   ],
   "source": [
    "# Lets check to see if the removal of all trailing 'B' characters took effect\n",
    "# Create a boolean mask to check for non-numeric characters in the specified column\n",
    "\n",
    "column_name = 'StockCode'\n",
    "mask = df[column_name].str.contains(r'\\D', regex=True, na = False)\n",
    "\n",
    "# Use the mask to filter the DataFrame and get rows with non-numeric characters\n",
    "rows_with_non_numeric = df[mask]\n",
    "\n",
    "# Print the rows containing non-numeric characters\n",
    "print(rows_with_non_numeric)"
   ]
  },
  {
   "cell_type": "code",
   "execution_count": 43,
   "id": "600a2070",
   "metadata": {},
   "outputs": [
    {
     "data": {
      "text/plain": [
       "array(['C2', 'BANK CHARGE'], dtype=object)"
      ]
     },
     "execution_count": 43,
     "metadata": {},
     "output_type": "execute_result"
    }
   ],
   "source": [
    "rows_with_non_numeric['StockCode'].unique()"
   ]
  },
  {
   "cell_type": "code",
   "execution_count": 44,
   "id": "4659a63f",
   "metadata": {},
   "outputs": [
    {
     "name": "stdout",
     "output_type": "stream",
     "text": [
      "        InvoiceNo StockCode                          Description  Quantity  \\\n",
      "0          536365     85123   WHITE HANGING HEART T-LIGHT HOLDER         6   \n",
      "1          536365     71053                  WHITE METAL LANTERN         6   \n",
      "2          536365     84406       CREAM CUPID HEARTS COAT HANGER         8   \n",
      "3          536365     84029  KNITTED UNION FLAG HOT WATER BOTTLE         6   \n",
      "4          536365     84029       RED WOOLLY HOTTIE WHITE HEART.         6   \n",
      "...           ...       ...                                  ...       ...   \n",
      "541904     581587     22613          PACK OF 20 SPACEBOY NAPKINS        12   \n",
      "541905     581587     22899         CHILDREN'S APRON DOLLY GIRL          6   \n",
      "541906     581587     23254        CHILDRENS CUTLERY DOLLY GIRL          4   \n",
      "541907     581587     23255      CHILDRENS CUTLERY CIRCUS PARADE         4   \n",
      "541908     581587     22138        BAKING SET 9 PIECE RETROSPOT          3   \n",
      "\n",
      "               InvoiceDate  UnitPrice  CustomerID         Country  \\\n",
      "0      2010-12-01 08:26:00       2.55       17850  United Kingdom   \n",
      "1      2010-12-01 08:26:00       3.39       17850  United Kingdom   \n",
      "2      2010-12-01 08:26:00       2.75       17850  United Kingdom   \n",
      "3      2010-12-01 08:26:00       3.39       17850  United Kingdom   \n",
      "4      2010-12-01 08:26:00       3.39       17850  United Kingdom   \n",
      "...                    ...        ...         ...             ...   \n",
      "541904 2011-12-09 12:50:00       0.85       12680          France   \n",
      "541905 2011-12-09 12:50:00       2.10       12680          France   \n",
      "541906 2011-12-09 12:50:00       4.15       12680          France   \n",
      "541907 2011-12-09 12:50:00       4.15       12680          France   \n",
      "541908 2011-12-09 12:50:00       4.95       12680          France   \n",
      "\n",
      "       transaction_type  \n",
      "0                  sale  \n",
      "1                  sale  \n",
      "2                  sale  \n",
      "3                  sale  \n",
      "4                  sale  \n",
      "...                 ...  \n",
      "541904             sale  \n",
      "541905             sale  \n",
      "541906             sale  \n",
      "541907             sale  \n",
      "541908             sale  \n",
      "\n",
      "[405463 rows x 9 columns]\n"
     ]
    }
   ],
   "source": [
    "# Finding all rows the have a StockCode value of 'C2'\n",
    "column_name = 'StockCode'\n",
    "\n",
    "# Using boolean indexing to filter rows with the value 'C2'\n",
    "mask = df[column_name] == 'C2'\n",
    "rows_to_delete = df[mask]\n",
    "\n",
    "# Dropping the rows that match the criteria using the drop() method\n",
    "df.drop(index = rows_to_delete.index, inplace=True)\n",
    "print(df)"
   ]
  },
  {
   "cell_type": "code",
   "execution_count": 45,
   "id": "102a43d1",
   "metadata": {},
   "outputs": [
    {
     "name": "stdout",
     "output_type": "stream",
     "text": [
      "        InvoiceNo    StockCode   Description  Quantity         InvoiceDate  \\\n",
      "4406       536779  BANK CHARGE  Bank Charges         1 2010-12-02 15:08:00   \n",
      "62508      541505  BANK CHARGE  Bank Charges         1 2011-01-18 15:58:00   \n",
      "152966     549717  BANK CHARGE  Bank Charges         1 2011-04-11 14:56:00   \n",
      "175275     551945  BANK CHARGE  Bank Charges         1 2011-05-05 11:09:00   \n",
      "327921     565735  BANK CHARGE  Bank Charges         1 2011-09-06 12:25:00   \n",
      "361740     568375  BANK CHARGE  Bank Charges         1 2011-09-26 17:01:00   \n",
      "361741     568375  BANK CHARGE  Bank Charges         1 2011-09-26 17:01:00   \n",
      "407618     571900  BANK CHARGE  Bank Charges         1 2011-10-19 14:26:00   \n",
      "431351     573586  BANK CHARGE  Bank Charges         1 2011-10-31 14:48:00   \n",
      "440745     574546  BANK CHARGE  Bank Charges         1 2011-11-04 14:59:00   \n",
      "506357     579137  BANK CHARGE  Bank Charges         1 2011-11-28 12:51:00   \n",
      "534008     581127  BANK CHARGE  Bank Charges         1 2011-12-07 12:45:00   \n",
      "\n",
      "        UnitPrice  CustomerID         Country transaction_type  \n",
      "4406       15.000       15823  United Kingdom             sale  \n",
      "62508      15.000       15939  United Kingdom             sale  \n",
      "152966     15.000       14606  United Kingdom             sale  \n",
      "175275     15.000       16714  United Kingdom             sale  \n",
      "327921     15.000       16904  United Kingdom             sale  \n",
      "361740     15.000       13405  United Kingdom             sale  \n",
      "361741      0.001       13405  United Kingdom             sale  \n",
      "407618     15.000       13263  United Kingdom             sale  \n",
      "431351     15.000       14704  United Kingdom             sale  \n",
      "440745     15.000       13651  United Kingdom             sale  \n",
      "506357     15.000       14704  United Kingdom             sale  \n",
      "534008     15.000       16271  United Kingdom             sale  \n"
     ]
    }
   ],
   "source": [
    "# Lets check to see if the removal of all 'C2' values took effect\n",
    "# Create a boolean mask to check for non-numeric characters in the specified column\n",
    "\n",
    "column_name = 'StockCode'\n",
    "mask = df[column_name].str.contains(r'\\D', regex=True, na = False)\n",
    "\n",
    "# Use the mask to filter the DataFrame and get rows with non-numeric characters\n",
    "rows_with_non_numeric = df[mask]\n",
    "\n",
    "# Print the rows containing non-numeric characters\n",
    "print(rows_with_non_numeric)"
   ]
  },
  {
   "cell_type": "code",
   "execution_count": 46,
   "id": "85289d94",
   "metadata": {},
   "outputs": [
    {
     "data": {
      "text/plain": [
       "array(['BANK CHARGE'], dtype=object)"
      ]
     },
     "execution_count": 46,
     "metadata": {},
     "output_type": "execute_result"
    }
   ],
   "source": [
    "rows_with_non_numeric['StockCode'].unique()"
   ]
  },
  {
   "cell_type": "code",
   "execution_count": 47,
   "id": "87d042ab",
   "metadata": {},
   "outputs": [
    {
     "name": "stdout",
     "output_type": "stream",
     "text": [
      "        InvoiceNo StockCode                          Description  Quantity  \\\n",
      "0          536365     85123   WHITE HANGING HEART T-LIGHT HOLDER         6   \n",
      "1          536365     71053                  WHITE METAL LANTERN         6   \n",
      "2          536365     84406       CREAM CUPID HEARTS COAT HANGER         8   \n",
      "3          536365     84029  KNITTED UNION FLAG HOT WATER BOTTLE         6   \n",
      "4          536365     84029       RED WOOLLY HOTTIE WHITE HEART.         6   \n",
      "...           ...       ...                                  ...       ...   \n",
      "541904     581587     22613          PACK OF 20 SPACEBOY NAPKINS        12   \n",
      "541905     581587     22899         CHILDREN'S APRON DOLLY GIRL          6   \n",
      "541906     581587     23254        CHILDRENS CUTLERY DOLLY GIRL          4   \n",
      "541907     581587     23255      CHILDRENS CUTLERY CIRCUS PARADE         4   \n",
      "541908     581587     22138        BAKING SET 9 PIECE RETROSPOT          3   \n",
      "\n",
      "               InvoiceDate  UnitPrice  CustomerID         Country  \\\n",
      "0      2010-12-01 08:26:00       2.55       17850  United Kingdom   \n",
      "1      2010-12-01 08:26:00       3.39       17850  United Kingdom   \n",
      "2      2010-12-01 08:26:00       2.75       17850  United Kingdom   \n",
      "3      2010-12-01 08:26:00       3.39       17850  United Kingdom   \n",
      "4      2010-12-01 08:26:00       3.39       17850  United Kingdom   \n",
      "...                    ...        ...         ...             ...   \n",
      "541904 2011-12-09 12:50:00       0.85       12680          France   \n",
      "541905 2011-12-09 12:50:00       2.10       12680          France   \n",
      "541906 2011-12-09 12:50:00       4.15       12680          France   \n",
      "541907 2011-12-09 12:50:00       4.15       12680          France   \n",
      "541908 2011-12-09 12:50:00       4.95       12680          France   \n",
      "\n",
      "       transaction_type  \n",
      "0                  sale  \n",
      "1                  sale  \n",
      "2                  sale  \n",
      "3                  sale  \n",
      "4                  sale  \n",
      "...                 ...  \n",
      "541904             sale  \n",
      "541905             sale  \n",
      "541906             sale  \n",
      "541907             sale  \n",
      "541908             sale  \n",
      "\n",
      "[405451 rows x 9 columns]\n"
     ]
    }
   ],
   "source": [
    "# Finding all rows the have a StockCode value of 'BANK CHARGE'\n",
    "column_name = 'StockCode'\n",
    "\n",
    "# Using boolean indexing to filter rows with the value 'BANK CHARGE'\n",
    "mask = df[column_name] == 'BANK CHARGE'\n",
    "rows_to_delete = df[mask]\n",
    "\n",
    "# Dropping the rows that match the criteria using the drop() method\n",
    "df.drop(index = rows_to_delete.index, inplace=True)\n",
    "print(df)"
   ]
  },
  {
   "cell_type": "code",
   "execution_count": 48,
   "id": "87d87b33",
   "metadata": {},
   "outputs": [
    {
     "name": "stdout",
     "output_type": "stream",
     "text": [
      "Empty DataFrame\n",
      "Columns: [InvoiceNo, StockCode, Description, Quantity, InvoiceDate, UnitPrice, CustomerID, Country, transaction_type]\n",
      "Index: []\n"
     ]
    }
   ],
   "source": [
    "# Lets check to see if the removal of all 'C2' values took effect\n",
    "# Create a boolean mask to check for non-numeric characters in the specified column\n",
    "\n",
    "column_name = 'StockCode'\n",
    "mask = df[column_name].str.contains(r'\\D', regex=True, na = False)\n",
    "\n",
    "# Use the mask to filter the DataFrame and get rows with non-numeric characters\n",
    "rows_with_non_numeric = df[mask]\n",
    "\n",
    "# Print the rows containing non-numeric characters\n",
    "print(rows_with_non_numeric)"
   ]
  },
  {
   "cell_type": "code",
   "execution_count": 49,
   "id": "f3d8bffe",
   "metadata": {},
   "outputs": [
    {
     "data": {
      "text/plain": [
       "array([], dtype=object)"
      ]
     },
     "execution_count": 49,
     "metadata": {},
     "output_type": "execute_result"
    }
   ],
   "source": [
    "rows_with_non_numeric['StockCode'].unique()"
   ]
  },
  {
   "cell_type": "markdown",
   "id": "1613638c",
   "metadata": {},
   "source": [
    "__All non-digit values have been successfully removed from the `StockCode` column to satisfy the description of the values of that column as a 5-digit integer number value column__"
   ]
  },
  {
   "cell_type": "code",
   "execution_count": 50,
   "id": "575b3d02",
   "metadata": {},
   "outputs": [
    {
     "name": "stdout",
     "output_type": "stream",
     "text": [
      "        InvoiceNo StockCode Description  Quantity         InvoiceDate  \\\n",
      "141        536379              Discount        -1 2010-12-01 09:41:00   \n",
      "2239       536569                Manual         1 2010-12-01 15:35:00   \n",
      "2250       536569                Manual         1 2010-12-01 15:35:00   \n",
      "6798       536981                Manual         2 2010-12-03 14:26:00   \n",
      "7976       537077                Manual        12 2010-12-05 11:59:00   \n",
      "...           ...       ...         ...       ...                 ...   \n",
      "531432     580956                Manual         4 2011-12-06 14:23:00   \n",
      "533082     581009                Manual        -1 2011-12-07 09:15:00   \n",
      "534308     581145                Manual        -1 2011-12-07 13:48:00   \n",
      "538321     581405                Manual         3 2011-12-08 13:50:00   \n",
      "541541     581499                Manual        -1 2011-12-09 10:28:00   \n",
      "\n",
      "        UnitPrice  CustomerID         Country transaction_type  \n",
      "141         27.50       14527  United Kingdom        cancelled  \n",
      "2239         1.25       16274  United Kingdom             sale  \n",
      "2250        18.95       16274  United Kingdom             sale  \n",
      "6798         0.85       14723  United Kingdom             sale  \n",
      "7976         0.42       17062  United Kingdom             sale  \n",
      "...           ...         ...             ...              ...  \n",
      "531432       1.25       17841  United Kingdom             sale  \n",
      "533082     125.00       16971  United Kingdom        cancelled  \n",
      "534308       9.95       17490  United Kingdom        cancelled  \n",
      "538321       0.42       13521  United Kingdom             sale  \n",
      "541541     224.69       15498  United Kingdom        cancelled  \n",
      "\n",
      "[542 rows x 9 columns]\n"
     ]
    }
   ],
   "source": [
    "# Checking for empty strings or Nan values in the StockCode column\n",
    "\n",
    "mask = df['StockCode'] == ''\n",
    "rows_with_empty_strings = df[mask]\n",
    "print(rows_with_empty_strings)"
   ]
  },
  {
   "cell_type": "code",
   "execution_count": 51,
   "id": "5799d7e2",
   "metadata": {},
   "outputs": [
    {
     "data": {
      "text/plain": [
       "array(['Discount', 'Manual'], dtype=object)"
      ]
     },
     "execution_count": 51,
     "metadata": {},
     "output_type": "execute_result"
    }
   ],
   "source": [
    "rows_with_empty_strings['Description'].unique()"
   ]
  },
  {
   "cell_type": "code",
   "execution_count": 52,
   "id": "5055053a",
   "metadata": {},
   "outputs": [
    {
     "name": "stdout",
     "output_type": "stream",
     "text": [
      "        InvoiceNo StockCode                          Description  Quantity  \\\n",
      "0          536365     85123   WHITE HANGING HEART T-LIGHT HOLDER         6   \n",
      "1          536365     71053                  WHITE METAL LANTERN         6   \n",
      "2          536365     84406       CREAM CUPID HEARTS COAT HANGER         8   \n",
      "3          536365     84029  KNITTED UNION FLAG HOT WATER BOTTLE         6   \n",
      "4          536365     84029       RED WOOLLY HOTTIE WHITE HEART.         6   \n",
      "...           ...       ...                                  ...       ...   \n",
      "541904     581587     22613          PACK OF 20 SPACEBOY NAPKINS        12   \n",
      "541905     581587     22899         CHILDREN'S APRON DOLLY GIRL          6   \n",
      "541906     581587     23254        CHILDRENS CUTLERY DOLLY GIRL          4   \n",
      "541907     581587     23255      CHILDRENS CUTLERY CIRCUS PARADE         4   \n",
      "541908     581587     22138        BAKING SET 9 PIECE RETROSPOT          3   \n",
      "\n",
      "               InvoiceDate  UnitPrice  CustomerID         Country  \\\n",
      "0      2010-12-01 08:26:00       2.55       17850  United Kingdom   \n",
      "1      2010-12-01 08:26:00       3.39       17850  United Kingdom   \n",
      "2      2010-12-01 08:26:00       2.75       17850  United Kingdom   \n",
      "3      2010-12-01 08:26:00       3.39       17850  United Kingdom   \n",
      "4      2010-12-01 08:26:00       3.39       17850  United Kingdom   \n",
      "...                    ...        ...         ...             ...   \n",
      "541904 2011-12-09 12:50:00       0.85       12680          France   \n",
      "541905 2011-12-09 12:50:00       2.10       12680          France   \n",
      "541906 2011-12-09 12:50:00       4.15       12680          France   \n",
      "541907 2011-12-09 12:50:00       4.15       12680          France   \n",
      "541908 2011-12-09 12:50:00       4.95       12680          France   \n",
      "\n",
      "       transaction_type  \n",
      "0                  sale  \n",
      "1                  sale  \n",
      "2                  sale  \n",
      "3                  sale  \n",
      "4                  sale  \n",
      "...                 ...  \n",
      "541904             sale  \n",
      "541905             sale  \n",
      "541906             sale  \n",
      "541907             sale  \n",
      "541908             sale  \n",
      "\n",
      "[404909 rows x 9 columns]\n"
     ]
    }
   ],
   "source": [
    "# Dropping all rows that match the criteria of having an empty string in the StockCode column\n",
    "df.drop(index=rows_with_empty_strings.index, inplace=True)\n",
    "\n",
    "# Print the DataFrame after the deletion\n",
    "print(df)"
   ]
  },
  {
   "cell_type": "code",
   "execution_count": 53,
   "id": "3cb613d6",
   "metadata": {},
   "outputs": [],
   "source": [
    "# Converting the \"StockCode\" column datatype from object to integer\n",
    "\n",
    "df['StockCode'] = df['StockCode'].astype(int)"
   ]
  },
  {
   "cell_type": "code",
   "execution_count": 54,
   "id": "573ce67b",
   "metadata": {},
   "outputs": [
    {
     "name": "stdout",
     "output_type": "stream",
     "text": [
      "<class 'pandas.core.frame.DataFrame'>\n",
      "Index: 404909 entries, 0 to 541908\n",
      "Data columns (total 9 columns):\n",
      " #   Column            Non-Null Count   Dtype         \n",
      "---  ------            --------------   -----         \n",
      " 0   InvoiceNo         404909 non-null  int32         \n",
      " 1   StockCode         404909 non-null  int32         \n",
      " 2   Description       404909 non-null  object        \n",
      " 3   Quantity          404909 non-null  int64         \n",
      " 4   InvoiceDate       404909 non-null  datetime64[ns]\n",
      " 5   UnitPrice         404909 non-null  float64       \n",
      " 6   CustomerID        404909 non-null  int32         \n",
      " 7   Country           404909 non-null  object        \n",
      " 8   transaction_type  404909 non-null  object        \n",
      "dtypes: datetime64[ns](1), float64(1), int32(3), int64(1), object(3)\n",
      "memory usage: 26.3+ MB\n"
     ]
    }
   ],
   "source": [
    "df.info()"
   ]
  },
  {
   "cell_type": "markdown",
   "id": "0d7fa955",
   "metadata": {},
   "source": [
    "#### From the initial investigation of the dataset, all negative quantity values represented transactions that were also cancelled\n",
    "#### Since all cancelled transactions have been represented with the cancelled value in the `transaction_type` column, we can go ahead and convert all negative quantity values to their absolute values(+ values)"
   ]
  },
  {
   "cell_type": "code",
   "execution_count": 55,
   "id": "ee9b5ada",
   "metadata": {},
   "outputs": [
    {
     "name": "stdout",
     "output_type": "stream",
     "text": [
      "        InvoiceNo  StockCode                        Description  Quantity  \\\n",
      "154        536383      35004    SET OF 3 COLOURED  FLYING DUCKS        -1   \n",
      "235        536391      22556     PLASTERS IN TIN CIRCUS PARADE        -12   \n",
      "236        536391      21984   PACK OF 12 PINK PAISLEY TISSUES        -24   \n",
      "237        536391      21983   PACK OF 12 BLUE PAISLEY TISSUES        -24   \n",
      "238        536391      21980  PACK OF 12 RED RETROSPOT TISSUES        -24   \n",
      "...           ...        ...                                ...       ...   \n",
      "540448     581490      22178    VICTORIAN GLASS HANGING T-LIGHT       -12   \n",
      "540449     581490      23144    ZINC T-LIGHT HOLDER STARS SMALL       -11   \n",
      "541715     581568      21258         VICTORIAN SEWING BOX LARGE        -5   \n",
      "541716     581569      84978   HANGING HEART JAR T-LIGHT HOLDER        -1   \n",
      "541717     581569      20979      36 PENCILS TUBE RED RETROSPOT        -5   \n",
      "\n",
      "               InvoiceDate  UnitPrice  CustomerID         Country  \\\n",
      "154    2010-12-01 09:49:00       4.65       15311  United Kingdom   \n",
      "235    2010-12-01 10:24:00       1.65       17548  United Kingdom   \n",
      "236    2010-12-01 10:24:00       0.29       17548  United Kingdom   \n",
      "237    2010-12-01 10:24:00       0.29       17548  United Kingdom   \n",
      "238    2010-12-01 10:24:00       0.29       17548  United Kingdom   \n",
      "...                    ...        ...         ...             ...   \n",
      "540448 2011-12-09 09:57:00       1.95       14397  United Kingdom   \n",
      "540449 2011-12-09 09:57:00       0.83       14397  United Kingdom   \n",
      "541715 2011-12-09 11:57:00      10.95       15311  United Kingdom   \n",
      "541716 2011-12-09 11:58:00       1.25       17315  United Kingdom   \n",
      "541717 2011-12-09 11:58:00       1.25       17315  United Kingdom   \n",
      "\n",
      "       transaction_type  \n",
      "154           cancelled  \n",
      "235           cancelled  \n",
      "236           cancelled  \n",
      "237           cancelled  \n",
      "238           cancelled  \n",
      "...                 ...  \n",
      "540448        cancelled  \n",
      "540449        cancelled  \n",
      "541715        cancelled  \n",
      "541716        cancelled  \n",
      "541717        cancelled  \n",
      "\n",
      "[8539 rows x 9 columns]\n"
     ]
    }
   ],
   "source": [
    "# Retrieving all negative values in the quantity column\n",
    "\n",
    "mask = df['Quantity'] < 0\n",
    "rows_with_neg_values = df[mask]\n",
    "print(rows_with_neg_values)"
   ]
  },
  {
   "cell_type": "code",
   "execution_count": 56,
   "id": "0fbc04d0",
   "metadata": {},
   "outputs": [
    {
     "name": "stdout",
     "output_type": "stream",
     "text": [
      "        InvoiceNo  StockCode                          Description  Quantity  \\\n",
      "0          536365      85123   WHITE HANGING HEART T-LIGHT HOLDER         6   \n",
      "1          536365      71053                  WHITE METAL LANTERN         6   \n",
      "2          536365      84406       CREAM CUPID HEARTS COAT HANGER         8   \n",
      "3          536365      84029  KNITTED UNION FLAG HOT WATER BOTTLE         6   \n",
      "4          536365      84029       RED WOOLLY HOTTIE WHITE HEART.         6   \n",
      "...           ...        ...                                  ...       ...   \n",
      "541904     581587      22613          PACK OF 20 SPACEBOY NAPKINS        12   \n",
      "541905     581587      22899         CHILDREN'S APRON DOLLY GIRL          6   \n",
      "541906     581587      23254        CHILDRENS CUTLERY DOLLY GIRL          4   \n",
      "541907     581587      23255      CHILDRENS CUTLERY CIRCUS PARADE         4   \n",
      "541908     581587      22138        BAKING SET 9 PIECE RETROSPOT          3   \n",
      "\n",
      "               InvoiceDate  UnitPrice  CustomerID         Country  \\\n",
      "0      2010-12-01 08:26:00       2.55       17850  United Kingdom   \n",
      "1      2010-12-01 08:26:00       3.39       17850  United Kingdom   \n",
      "2      2010-12-01 08:26:00       2.75       17850  United Kingdom   \n",
      "3      2010-12-01 08:26:00       3.39       17850  United Kingdom   \n",
      "4      2010-12-01 08:26:00       3.39       17850  United Kingdom   \n",
      "...                    ...        ...         ...             ...   \n",
      "541904 2011-12-09 12:50:00       0.85       12680          France   \n",
      "541905 2011-12-09 12:50:00       2.10       12680          France   \n",
      "541906 2011-12-09 12:50:00       4.15       12680          France   \n",
      "541907 2011-12-09 12:50:00       4.15       12680          France   \n",
      "541908 2011-12-09 12:50:00       4.95       12680          France   \n",
      "\n",
      "       transaction_type  \n",
      "0                  sale  \n",
      "1                  sale  \n",
      "2                  sale  \n",
      "3                  sale  \n",
      "4                  sale  \n",
      "...                 ...  \n",
      "541904             sale  \n",
      "541905             sale  \n",
      "541906             sale  \n",
      "541907             sale  \n",
      "541908             sale  \n",
      "\n",
      "[404909 rows x 9 columns]\n"
     ]
    }
   ],
   "source": [
    "df.loc[mask, 'Quantity'] = df.loc[mask, 'Quantity'].abs()\n",
    "print(df)"
   ]
  },
  {
   "cell_type": "code",
   "execution_count": 57,
   "id": "617645c9",
   "metadata": {},
   "outputs": [
    {
     "name": "stdout",
     "output_type": "stream",
     "text": [
      "Empty DataFrame\n",
      "Columns: [InvoiceNo, StockCode, Description, Quantity, InvoiceDate, UnitPrice, CustomerID, Country, transaction_type]\n",
      "Index: []\n"
     ]
    }
   ],
   "source": [
    "# Checking to make sure there are no negative values in the 'Quantity' column\n",
    "\n",
    "mask = df['Quantity'] < 0\n",
    "rows_with_neg_values = df[mask]\n",
    "print(rows_with_neg_values)"
   ]
  },
  {
   "cell_type": "code",
   "execution_count": 58,
   "id": "cafb21c0",
   "metadata": {},
   "outputs": [
    {
     "name": "stdout",
     "output_type": "stream",
     "text": [
      "Series([], Name: CustomerID, dtype: int32)\n"
     ]
    }
   ],
   "source": [
    "# Checking the 'CustomerID' column for values less than 5 characters\n",
    "# Defining function to check for values with length less than 5\n",
    "\n",
    "column_name = 'CustomerID'\n",
    "\n",
    "def integers_with_length_less_than_5(df, column_name):\n",
    "    # Convert the values in the 'CustomerID' column to strings\n",
    "    column_as_str = df[column_name].astype(str)\n",
    "\n",
    "    # Using boolean indexing to filter rows with a length of characters less than 5\n",
    "    mask = column_as_str.str.len() < 5\n",
    "\n",
    "    # Get the rows that match the criteria\n",
    "    rows_with_length_less_than_5 = df[mask]\n",
    "\n",
    "    # Return the values as a pandas Series\n",
    "    return rows_with_length_less_than_5[column_name]\n",
    "\n",
    "result = integers_with_length_less_than_5(df, column_name)\n",
    "print(result)"
   ]
  },
  {
   "cell_type": "code",
   "execution_count": 59,
   "id": "8264db55",
   "metadata": {},
   "outputs": [
    {
     "name": "stdout",
     "output_type": "stream",
     "text": [
      "Series([], Name: CustomerID, dtype: int32)\n"
     ]
    }
   ],
   "source": [
    "# Checking the 'CustomerID' column for values more than 5 characters\n",
    "# Defining function to check for values with length more than 5\n",
    "\n",
    "column_name = 'CustomerID'\n",
    "\n",
    "def integers_with_length_more_than_5(df, column_name):\n",
    "    # Convert the values in the 'CustomerID' column to strings\n",
    "    column_as_str = df[column_name].astype(str)\n",
    "\n",
    "    # Using boolean indexing to filter rows with a length of characters more than 5\n",
    "    mask = column_as_str.str.len() > 5\n",
    "\n",
    "    # Get the rows that match the criteria\n",
    "    rows_with_length_more_than_5 = df[mask]\n",
    "\n",
    "    # Return the values as a pandas Series\n",
    "    return rows_with_length_more_than_5[column_name]\n",
    "\n",
    "result = integers_with_length_more_than_5(df, column_name)\n",
    "print(result)"
   ]
  },
  {
   "cell_type": "code",
   "execution_count": 60,
   "id": "efb585bb",
   "metadata": {},
   "outputs": [
    {
     "data": {
      "text/plain": [
       "array(['United Kingdom', 'France', 'Australia', 'Netherlands', 'Germany',\n",
       "       'Norway', 'EIRE', 'Switzerland', 'Spain', 'Poland', 'Portugal',\n",
       "       'Italy', 'Belgium', 'Lithuania', 'Japan', 'Iceland',\n",
       "       'Channel Islands', 'Denmark', 'Cyprus', 'Sweden', 'Austria',\n",
       "       'Israel', 'Finland', 'Greece', 'Singapore', 'Lebanon',\n",
       "       'United Arab Emirates', 'Saudi Arabia', 'Czech Republic', 'Canada',\n",
       "       'Unspecified', 'Brazil', 'USA', 'European Community', 'Bahrain',\n",
       "       'Malta', 'RSA'], dtype=object)"
      ]
     },
     "execution_count": 60,
     "metadata": {},
     "output_type": "execute_result"
    }
   ],
   "source": [
    "#Retrieving all unique country values\n",
    "\n",
    "df['Country'].unique()"
   ]
  },
  {
   "cell_type": "code",
   "execution_count": 61,
   "id": "bf309668",
   "metadata": {},
   "outputs": [
    {
     "name": "stdout",
     "output_type": "stream",
     "text": [
      "        InvoiceNo  StockCode                          Description  Quantity  \\\n",
      "1404       536540      22968           ROSE COTTAGE KEEPSAKE BOX          4   \n",
      "1405       536540      85071  BLUE CHARLIE+LOLA PERSONAL DOORSIGN         6   \n",
      "1406       536540      85071    CHARLIE+LOLA\"EXTREMELY BUSY\" SIGN         6   \n",
      "1407       536540      22355            CHARLOTTE BAG SUKI DESIGN        50   \n",
      "1408       536540      21579      LOLITA  DESIGN  COTTON TOTE BAG         6   \n",
      "...           ...        ...                                  ...       ...   \n",
      "539151     581433      22192                BLUE DINER WALL CLOCK         2   \n",
      "539152     581433      48187                  DOORMAT NEW ENGLAND         2   \n",
      "539153     581433      48184                DOORMAT ENGLISH ROSE          2   \n",
      "539154     581433      20685                DOORMAT RED RETROSPOT         2   \n",
      "539155     581433      79302               ART LIGHTS,FUNK MONKEY         6   \n",
      "\n",
      "               InvoiceDate  UnitPrice  CustomerID Country transaction_type  \n",
      "1404   2010-12-01 14:05:00       9.95       14911    EIRE             sale  \n",
      "1405   2010-12-01 14:05:00       2.95       14911    EIRE             sale  \n",
      "1406   2010-12-01 14:05:00       2.55       14911    EIRE             sale  \n",
      "1407   2010-12-01 14:05:00       0.85       14911    EIRE             sale  \n",
      "1408   2010-12-01 14:05:00       2.25       14911    EIRE             sale  \n",
      "...                    ...        ...         ...     ...              ...  \n",
      "539151 2011-12-08 15:54:00       8.50       14911    EIRE             sale  \n",
      "539152 2011-12-08 15:54:00       8.25       14911    EIRE             sale  \n",
      "539153 2011-12-08 15:54:00       8.25       14911    EIRE             sale  \n",
      "539154 2011-12-08 15:54:00       8.25       14911    EIRE             sale  \n",
      "539155 2011-12-08 15:54:00       2.95       14911    EIRE             sale  \n",
      "\n",
      "[7380 rows x 9 columns]\n"
     ]
    }
   ],
   "source": [
    "# Retrieve all entry which has a country value of 'EIRE'\n",
    "\n",
    "mask = df['Country'] == 'EIRE'\n",
    "eire_countries = df[mask]\n",
    "print(df[mask])"
   ]
  },
  {
   "cell_type": "markdown",
   "id": "55899b1c",
   "metadata": {},
   "source": [
    "__There are a total of _7380_ entries with 'EIRE' as country values. 'EIRE' is the irish name for Ireland.\n",
    "All entries with these values as country will be replaced with the value 'Ireland'.__"
   ]
  },
  {
   "cell_type": "code",
   "execution_count": 62,
   "id": "88728b15",
   "metadata": {},
   "outputs": [],
   "source": [
    "# Replacing all `EIRE` values with the value `Ireland`\n",
    "\n",
    "column_name = 'Country'\n",
    "df[column_name].replace('EIRE', 'Ireland', inplace = True)"
   ]
  },
  {
   "cell_type": "code",
   "execution_count": 63,
   "id": "ea9c6ed5",
   "metadata": {},
   "outputs": [
    {
     "data": {
      "text/plain": [
       "array(['United Kingdom', 'France', 'Australia', 'Netherlands', 'Germany',\n",
       "       'Norway', 'Ireland', 'Switzerland', 'Spain', 'Poland', 'Portugal',\n",
       "       'Italy', 'Belgium', 'Lithuania', 'Japan', 'Iceland',\n",
       "       'Channel Islands', 'Denmark', 'Cyprus', 'Sweden', 'Austria',\n",
       "       'Israel', 'Finland', 'Greece', 'Singapore', 'Lebanon',\n",
       "       'United Arab Emirates', 'Saudi Arabia', 'Czech Republic', 'Canada',\n",
       "       'Unspecified', 'Brazil', 'USA', 'European Community', 'Bahrain',\n",
       "       'Malta', 'RSA'], dtype=object)"
      ]
     },
     "execution_count": 63,
     "metadata": {},
     "output_type": "execute_result"
    }
   ],
   "source": [
    "df['Country'].unique()"
   ]
  },
  {
   "cell_type": "code",
   "execution_count": 64,
   "id": "ce55c067",
   "metadata": {},
   "outputs": [
    {
     "data": {
      "text/plain": [
       "array(['United Kingdom', 'France', 'Australia', 'Netherlands', 'Germany',\n",
       "       'Norway', 'Ireland', 'Switzerland', 'Spain', 'Poland', 'Portugal',\n",
       "       'Italy', 'Belgium', 'Lithuania', 'Japan', 'Iceland',\n",
       "       'Channel Islands', 'Denmark', 'Cyprus', 'Sweden', 'Austria',\n",
       "       'Israel', 'Finland', 'Greece', 'Singapore', 'Lebanon',\n",
       "       'United Arab Emirates', 'Saudi Arabia', 'Czech Republic', 'Canada',\n",
       "       'Unspecified', 'Brazil', 'USA', 'European Community', 'Bahrain',\n",
       "       'Malta', 'South Africa'], dtype=object)"
      ]
     },
     "execution_count": 64,
     "metadata": {},
     "output_type": "execute_result"
    }
   ],
   "source": [
    "# Replacing all `RSA` values with the value `South Africa`\n",
    "\n",
    "column_name = 'Country'\n",
    "df[column_name].replace('RSA', 'South Africa', inplace = True)\n",
    "df[column_name].unique()"
   ]
  },
  {
   "cell_type": "code",
   "execution_count": 65,
   "id": "ec37bc43",
   "metadata": {},
   "outputs": [
    {
     "name": "stdout",
     "output_type": "stream",
     "text": [
      "        InvoiceNo  StockCode                          Description  Quantity  \\\n",
      "168149     551013      22839      3 TIER CAKE TIN GREEN AND CREAM         1   \n",
      "168150     551013      22840           ROUND CAKE TIN VINTAGE RED         2   \n",
      "168151     551013      22841         ROUND CAKE TIN VINTAGE GREEN         2   \n",
      "168152     551013      22457      NATURAL SLATE HEART CHALKBOARD          6   \n",
      "168153     551013      22314          OFFICE MUG WARMER CHOC+BLUE         6   \n",
      "168154     551013      22312           OFFICE MUG WARMER POLKADOT         6   \n",
      "168155     551013      22842              BISCUIT TIN VINTAGE RED         2   \n",
      "168156     551013      22843            BISCUIT TIN VINTAGE GREEN         2   \n",
      "168157     551013      22424               ENAMEL BREAD BIN CREAM         1   \n",
      "168158     551013      22722    SET OF 6 SPICE TINS PANTRY DESIGN         4   \n",
      "213465     555542      21675                 BUTTERFLIES STICKERS        12   \n",
      "213466     555542      21676                    FLOWERS  STICKERS        12   \n",
      "213467     555542      21677                     HEARTS  STICKERS        12   \n",
      "213468     555542      22314          OFFICE MUG WARMER CHOC+BLUE        12   \n",
      "213469     555542      22312           OFFICE MUG WARMER POLKADOT         6   \n",
      "213470     555542      22838        3 TIER CAKE TIN RED AND CREAM         2   \n",
      "213471     555542      22840           ROUND CAKE TIN VINTAGE RED         2   \n",
      "213472     555542      22841         ROUND CAKE TIN VINTAGE GREEN         2   \n",
      "213473     555542      22721        SET OF 3 CAKE TINS SKETCHBOOK         3   \n",
      "213474     555542      22193                 RED DINER WALL CLOCK         2   \n",
      "213475     555542      22961               JAM MAKING SET PRINTED        12   \n",
      "213476     555542      22452         MEASURING TAPE BABUSHKA PINK         6   \n",
      "213477     555542      22453         MEASURING TAPE BABUSHKA BLUE         6   \n",
      "213478     555542      23111                PARISIENNE SEWING BOX         2   \n",
      "213479     555542      22311      OFFICE MUG WARMER BLACK+SILVER          6   \n",
      "213480     555542      22842              BISCUIT TIN VINTAGE RED         6   \n",
      "213481     555542      22843            BISCUIT TIN VINTAGE GREEN         6   \n",
      "213482     555542      22319    HAIRCLIPS FORTIES FABRIC ASSORTED        12   \n",
      "213483     555542      22960             JAM MAKING SET WITH JARS         6   \n",
      "221924     556294      22960             JAM MAKING SET WITH JARS         2   \n",
      "273208     560783      22446            PIN CUSHION BABUSHKA PINK         6   \n",
      "273209     560783      22447            PIN CUSHION BABUSHKA BLUE         6   \n",
      "273210     560783      22448             PIN CUSHION BABUSHKA RED         6   \n",
      "273211     560783      22452         MEASURING TAPE BABUSHKA PINK         6   \n",
      "273212     560783      22453         MEASURING TAPE BABUSHKA BLUE         6   \n",
      "273213     560783      22904            CALENDAR PAPER CUT DESIGN         6   \n",
      "273214     560783      22720    SET OF 3 CAKE TINS PANTRY DESIGN          6   \n",
      "273215     560783      85132        CHARLIE AND LOLA FIGURES TINS        12   \n",
      "273216     560783      22449             SILK PURSE BABUSHKA PINK         6   \n",
      "273217     560783      23243  SET OF TEA COFFEE SUGAR TINS PANTRY         4   \n",
      "273218     560783      23239    SET OF 4 KNICK KNACK TINS POPPIES         6   \n",
      "273219     560783      23307  SET OF 60 PANTRY DESIGN CAKE CASES         24   \n",
      "273220     560783      23308   SET OF 60 VINTAGE LEAF CAKE CASES         24   \n",
      "273221     560783      23020          GLASS  SONGBIRD STORAGE JAR         1   \n",
      "273222     560783      22571         ROCKING HORSE RED CHRISTMAS         24   \n",
      "273223     560783      22572       ROCKING HORSE GREEN CHRISTMAS         24   \n",
      "273224     560783      23210     WHITE ROCKING HORSE HAND PAINTED        24   \n",
      "273225     560783      23211       RED ROCKING HORSE HAND PAINTED        24   \n",
      "273226     560783      23212    HEART WREATH DECORATION WITH BELL        12   \n",
      "273227     560783      23268  SET OF 2 CERAMIC CHRISTMAS REINDEER        12   \n",
      "273228     560783      23270     SET OF 2 CERAMIC PAINTED HEARTS         12   \n",
      "273229     560783      23213     STAR WREATH DECORATION WITH BELL        12   \n",
      "273230     560783      23264   SET OF 3 WOODEN SLEIGH DECORATIONS        12   \n",
      "273231     560783      23265     SET OF 3 WOODEN TREE DECORATIONS        12   \n",
      "273232     560783      21098                CHRISTMAS TOILET ROLL        12   \n",
      "273233     560783      72807  SET/3 VANILLA SCENTED CANDLE IN BOX        12   \n",
      "273234     560783      85036   CHOCOLATE 1 WICK MORRIS BOX CANDLE        12   \n",
      "273235     560783      85035        ROSE 3 WICK MORRIS BOX CANDLE         8   \n",
      "\n",
      "               InvoiceDate  UnitPrice  CustomerID             Country  \\\n",
      "168149 2011-04-26 10:54:00      14.95       15108  European Community   \n",
      "168150 2011-04-26 10:54:00       7.95       15108  European Community   \n",
      "168151 2011-04-26 10:54:00       7.95       15108  European Community   \n",
      "168152 2011-04-26 10:54:00       2.95       15108  European Community   \n",
      "168153 2011-04-26 10:54:00       2.95       15108  European Community   \n",
      "168154 2011-04-26 10:54:00       2.95       15108  European Community   \n",
      "168155 2011-04-26 10:54:00       6.75       15108  European Community   \n",
      "168156 2011-04-26 10:54:00       6.75       15108  European Community   \n",
      "168157 2011-04-26 10:54:00      12.75       15108  European Community   \n",
      "168158 2011-04-26 10:54:00       3.95       15108  European Community   \n",
      "213465 2011-06-05 12:51:00       0.85       15108  European Community   \n",
      "213466 2011-06-05 12:51:00       0.85       15108  European Community   \n",
      "213467 2011-06-05 12:51:00       0.85       15108  European Community   \n",
      "213468 2011-06-05 12:51:00       2.95       15108  European Community   \n",
      "213469 2011-06-05 12:51:00       2.95       15108  European Community   \n",
      "213470 2011-06-05 12:51:00      14.95       15108  European Community   \n",
      "213471 2011-06-05 12:51:00       7.95       15108  European Community   \n",
      "213472 2011-06-05 12:51:00       7.95       15108  European Community   \n",
      "213473 2011-06-05 12:51:00       4.95       15108  European Community   \n",
      "213474 2011-06-05 12:51:00       8.50       15108  European Community   \n",
      "213475 2011-06-05 12:51:00       1.45       15108  European Community   \n",
      "213476 2011-06-05 12:51:00       2.95       15108  European Community   \n",
      "213477 2011-06-05 12:51:00       2.95       15108  European Community   \n",
      "213478 2011-06-05 12:51:00      12.50       15108  European Community   \n",
      "213479 2011-06-05 12:51:00       2.95       15108  European Community   \n",
      "213480 2011-06-05 12:51:00       6.75       15108  European Community   \n",
      "213481 2011-06-05 12:51:00       6.75       15108  European Community   \n",
      "213482 2011-06-05 12:51:00       0.65       15108  European Community   \n",
      "213483 2011-06-05 12:51:00       4.25       15108  European Community   \n",
      "221924 2011-06-10 09:34:00       4.25       15108  European Community   \n",
      "273208 2011-07-21 10:24:00       3.35       15108  European Community   \n",
      "273209 2011-07-21 10:24:00       3.35       15108  European Community   \n",
      "273210 2011-07-21 10:24:00       3.35       15108  European Community   \n",
      "273211 2011-07-21 10:24:00       2.95       15108  European Community   \n",
      "273212 2011-07-21 10:24:00       2.95       15108  European Community   \n",
      "273213 2011-07-21 10:24:00       2.95       15108  European Community   \n",
      "273214 2011-07-21 10:24:00       4.95       15108  European Community   \n",
      "273215 2011-07-21 10:24:00       1.95       15108  European Community   \n",
      "273216 2011-07-21 10:24:00       3.35       15108  European Community   \n",
      "273217 2011-07-21 10:24:00       4.95       15108  European Community   \n",
      "273218 2011-07-21 10:24:00       4.15       15108  European Community   \n",
      "273219 2011-07-21 10:24:00       0.55       15108  European Community   \n",
      "273220 2011-07-21 10:24:00       0.55       15108  European Community   \n",
      "273221 2011-07-21 10:24:00      12.50       15108  European Community   \n",
      "273222 2011-07-21 10:24:00       0.85       15108  European Community   \n",
      "273223 2011-07-21 10:24:00       0.85       15108  European Community   \n",
      "273224 2011-07-21 10:24:00       1.25       15108  European Community   \n",
      "273225 2011-07-21 10:24:00       1.25       15108  European Community   \n",
      "273226 2011-07-21 10:24:00       1.25       15108  European Community   \n",
      "273227 2011-07-21 10:24:00       1.45       15108  European Community   \n",
      "273228 2011-07-21 10:24:00       1.45       15108  European Community   \n",
      "273229 2011-07-21 10:24:00       1.25       15108  European Community   \n",
      "273230 2011-07-21 10:24:00       1.25       15108  European Community   \n",
      "273231 2011-07-21 10:24:00       1.25       15108  European Community   \n",
      "273232 2011-07-21 10:24:00       1.25       15108  European Community   \n",
      "273233 2011-07-21 10:24:00       4.25       15108  European Community   \n",
      "273234 2011-07-21 10:24:00       4.25       15108  European Community   \n",
      "273235 2011-07-21 10:24:00       4.25       15108  European Community   \n",
      "\n",
      "       transaction_type  \n",
      "168149             sale  \n",
      "168150             sale  \n",
      "168151             sale  \n",
      "168152             sale  \n",
      "168153             sale  \n",
      "168154             sale  \n",
      "168155             sale  \n",
      "168156             sale  \n",
      "168157             sale  \n",
      "168158             sale  \n",
      "213465             sale  \n",
      "213466             sale  \n",
      "213467             sale  \n",
      "213468             sale  \n",
      "213469             sale  \n",
      "213470             sale  \n",
      "213471             sale  \n",
      "213472             sale  \n",
      "213473             sale  \n",
      "213474             sale  \n",
      "213475             sale  \n",
      "213476             sale  \n",
      "213477             sale  \n",
      "213478             sale  \n",
      "213479             sale  \n",
      "213480             sale  \n",
      "213481             sale  \n",
      "213482             sale  \n",
      "213483             sale  \n",
      "221924        cancelled  \n",
      "273208             sale  \n",
      "273209             sale  \n",
      "273210             sale  \n",
      "273211             sale  \n",
      "273212             sale  \n",
      "273213             sale  \n",
      "273214             sale  \n",
      "273215             sale  \n",
      "273216             sale  \n",
      "273217             sale  \n",
      "273218             sale  \n",
      "273219             sale  \n",
      "273220             sale  \n",
      "273221             sale  \n",
      "273222             sale  \n",
      "273223             sale  \n",
      "273224             sale  \n",
      "273225             sale  \n",
      "273226             sale  \n",
      "273227             sale  \n",
      "273228             sale  \n",
      "273229             sale  \n",
      "273230             sale  \n",
      "273231             sale  \n",
      "273232             sale  \n",
      "273233             sale  \n",
      "273234             sale  \n",
      "273235             sale  \n"
     ]
    }
   ],
   "source": [
    "# Retrieve all entries which has a country value of 'European Community'\n",
    "\n",
    "mask = df['Country'] == 'European Community'\n",
    "ec = df[mask]\n",
    "print(ec)"
   ]
  },
  {
   "cell_type": "code",
   "execution_count": 66,
   "id": "fc479278",
   "metadata": {},
   "outputs": [],
   "source": [
    "# Replacing all `European Community` values with the value `EU`\n",
    "\n",
    "column_name = 'Country'\n",
    "df[column_name].replace('European Community', 'EU', inplace = True)"
   ]
  },
  {
   "cell_type": "code",
   "execution_count": 67,
   "id": "e7671c55",
   "metadata": {},
   "outputs": [
    {
     "data": {
      "text/plain": [
       "37"
      ]
     },
     "execution_count": 67,
     "metadata": {},
     "output_type": "execute_result"
    }
   ],
   "source": [
    "df['Country'].nunique()"
   ]
  },
  {
   "cell_type": "markdown",
   "id": "229beb5e",
   "metadata": {},
   "source": [
    "__The dataset has a total of _37_ unique entries in the country column.__"
   ]
  },
  {
   "cell_type": "code",
   "execution_count": 68,
   "id": "598e499f",
   "metadata": {},
   "outputs": [
    {
     "data": {
      "text/plain": [
       "Country\n",
       "United Kingdom          361255\n",
       "Germany                   9096\n",
       "France                    8168\n",
       "Ireland                   7380\n",
       "Spain                     2468\n",
       "Netherlands               2330\n",
       "Belgium                   1971\n",
       "Switzerland               1844\n",
       "Portugal                  1436\n",
       "Australia                 1257\n",
       "Norway                    1060\n",
       "Italy                      783\n",
       "Channel Islands            753\n",
       "Finland                    653\n",
       "Cyprus                     619\n",
       "Sweden                     437\n",
       "Austria                    387\n",
       "Denmark                    375\n",
       "Japan                      355\n",
       "Poland                     336\n",
       "USA                        291\n",
       "Israel                     250\n",
       "Unspecified                244\n",
       "Singapore                  215\n",
       "Iceland                    182\n",
       "Canada                     150\n",
       "Greece                     142\n",
       "Malta                      123\n",
       "United Arab Emirates        67\n",
       "EU                          58\n",
       "South Africa                57\n",
       "Lebanon                     45\n",
       "Lithuania                   35\n",
       "Brazil                      32\n",
       "Czech Republic              28\n",
       "Bahrain                     17\n",
       "Saudi Arabia                10\n",
       "Name: count, dtype: int64"
      ]
     },
     "execution_count": 68,
     "metadata": {},
     "output_type": "execute_result"
    }
   ],
   "source": [
    "df['Country'].value_counts()"
   ]
  },
  {
   "cell_type": "markdown",
   "id": "e22611c9",
   "metadata": {},
   "source": [
    "__The United Kingdom has the highest number of values with a total of _361255_, followed by Germany, France, Ireland, and Spain respectively making up the top 5 countries.\n",
    "Saudi Arabia has the least entries with a total of _10_.\n",
    "Some entries had their country as _Unspecified_ which had a total of _244_ entries.\n",
    "Countries with the values as the _EU_ had a total of _58_ entries.__"
   ]
  },
  {
   "cell_type": "code",
   "execution_count": 69,
   "id": "36338b5d",
   "metadata": {},
   "outputs": [
    {
     "name": "stdout",
     "output_type": "stream",
     "text": [
      "<class 'pandas.core.frame.DataFrame'>\n",
      "Index: 404909 entries, 0 to 541908\n",
      "Data columns (total 9 columns):\n",
      " #   Column            Non-Null Count   Dtype         \n",
      "---  ------            --------------   -----         \n",
      " 0   InvoiceNo         404909 non-null  int32         \n",
      " 1   StockCode         404909 non-null  int32         \n",
      " 2   Description       404909 non-null  object        \n",
      " 3   Quantity          404909 non-null  int64         \n",
      " 4   InvoiceDate       404909 non-null  datetime64[ns]\n",
      " 5   UnitPrice         404909 non-null  float64       \n",
      " 6   CustomerID        404909 non-null  int32         \n",
      " 7   Country           404909 non-null  object        \n",
      " 8   transaction_type  404909 non-null  object        \n",
      "dtypes: datetime64[ns](1), float64(1), int32(3), int64(1), object(3)\n",
      "memory usage: 26.3+ MB\n"
     ]
    }
   ],
   "source": [
    "df.info()"
   ]
  },
  {
   "cell_type": "code",
   "execution_count": 70,
   "id": "be96ca41",
   "metadata": {},
   "outputs": [],
   "source": [
    "df.rename(columns={'transaction_type':'TransactionType'}, inplace = True)"
   ]
  },
  {
   "cell_type": "code",
   "execution_count": 71,
   "id": "9215ecc2",
   "metadata": {},
   "outputs": [
    {
     "data": {
      "text/plain": [
       "Index(['InvoiceNo', 'StockCode', 'Description', 'Quantity', 'InvoiceDate',\n",
       "       'UnitPrice', 'CustomerID', 'Country', 'TransactionType'],\n",
       "      dtype='object')"
      ]
     },
     "execution_count": 71,
     "metadata": {},
     "output_type": "execute_result"
    }
   ],
   "source": [
    "df.columns"
   ]
  },
  {
   "cell_type": "code",
   "execution_count": 72,
   "id": "16581ac3",
   "metadata": {},
   "outputs": [
    {
     "name": "stdout",
     "output_type": "stream",
     "text": [
      "        InvoiceNo  StockCode                          Description  Quantity  \\\n",
      "0          536365      85123   WHITE HANGING HEART T-LIGHT HOLDER         6   \n",
      "1          536365      71053                  WHITE METAL LANTERN         6   \n",
      "2          536365      84406       CREAM CUPID HEARTS COAT HANGER         8   \n",
      "3          536365      84029  KNITTED UNION FLAG HOT WATER BOTTLE         6   \n",
      "4          536365      84029       RED WOOLLY HOTTIE WHITE HEART.         6   \n",
      "...           ...        ...                                  ...       ...   \n",
      "541904     581587      22613          PACK OF 20 SPACEBOY NAPKINS        12   \n",
      "541905     581587      22899         CHILDREN'S APRON DOLLY GIRL          6   \n",
      "541906     581587      23254        CHILDRENS CUTLERY DOLLY GIRL          4   \n",
      "541907     581587      23255      CHILDRENS CUTLERY CIRCUS PARADE         4   \n",
      "541908     581587      22138        BAKING SET 9 PIECE RETROSPOT          3   \n",
      "\n",
      "               InvoiceDate  UnitPrice  CustomerID         Country  \\\n",
      "0      2010-12-01 08:26:00       2.55       17850  United Kingdom   \n",
      "1      2010-12-01 08:26:00       3.39       17850  United Kingdom   \n",
      "2      2010-12-01 08:26:00       2.75       17850  United Kingdom   \n",
      "3      2010-12-01 08:26:00       3.39       17850  United Kingdom   \n",
      "4      2010-12-01 08:26:00       3.39       17850  United Kingdom   \n",
      "...                    ...        ...         ...             ...   \n",
      "541904 2011-12-09 12:50:00       0.85       12680          France   \n",
      "541905 2011-12-09 12:50:00       2.10       12680          France   \n",
      "541906 2011-12-09 12:50:00       4.15       12680          France   \n",
      "541907 2011-12-09 12:50:00       4.15       12680          France   \n",
      "541908 2011-12-09 12:50:00       4.95       12680          France   \n",
      "\n",
      "       TransactionType  TotalAmount  \n",
      "0                 sale        15.30  \n",
      "1                 sale        20.34  \n",
      "2                 sale        22.00  \n",
      "3                 sale        20.34  \n",
      "4                 sale        20.34  \n",
      "...                ...          ...  \n",
      "541904            sale        10.20  \n",
      "541905            sale        12.60  \n",
      "541906            sale        16.60  \n",
      "541907            sale        16.60  \n",
      "541908            sale        14.85  \n",
      "\n",
      "[404909 rows x 10 columns]\n"
     ]
    }
   ],
   "source": [
    "# Create a new column 'TotalAmount' by multiplying 'Quantity' and 'UnitPrice'\n",
    "df['TotalAmount'] = df['Quantity'] * df['UnitPrice']\n",
    "\n",
    "# Print the DataFrame to see the new column\n",
    "print(df)"
   ]
  },
  {
   "cell_type": "code",
   "execution_count": 73,
   "id": "de5805a8",
   "metadata": {},
   "outputs": [
    {
     "name": "stdout",
     "output_type": "stream",
     "text": [
      "        InvoiceNo  StockCode                          Description  Quantity  \\\n",
      "0          536365      85123   WHITE HANGING HEART T-LIGHT HOLDER         6   \n",
      "1          536365      71053                  WHITE METAL LANTERN         6   \n",
      "2          536365      84406       CREAM CUPID HEARTS COAT HANGER         8   \n",
      "3          536365      84029  KNITTED UNION FLAG HOT WATER BOTTLE         6   \n",
      "4          536365      84029       RED WOOLLY HOTTIE WHITE HEART.         6   \n",
      "...           ...        ...                                  ...       ...   \n",
      "541904     581587      22613          PACK OF 20 SPACEBOY NAPKINS        12   \n",
      "541905     581587      22899         CHILDREN'S APRON DOLLY GIRL          6   \n",
      "541906     581587      23254        CHILDRENS CUTLERY DOLLY GIRL          4   \n",
      "541907     581587      23255      CHILDRENS CUTLERY CIRCUS PARADE         4   \n",
      "541908     581587      22138        BAKING SET 9 PIECE RETROSPOT          3   \n",
      "\n",
      "               InvoiceDate  UnitPrice  CustomerID         Country  \\\n",
      "0      2010-12-01 08:26:00       2.55       17850  United Kingdom   \n",
      "1      2010-12-01 08:26:00       3.39       17850  United Kingdom   \n",
      "2      2010-12-01 08:26:00       2.75       17850  United Kingdom   \n",
      "3      2010-12-01 08:26:00       3.39       17850  United Kingdom   \n",
      "4      2010-12-01 08:26:00       3.39       17850  United Kingdom   \n",
      "...                    ...        ...         ...             ...   \n",
      "541904 2011-12-09 12:50:00       0.85       12680          France   \n",
      "541905 2011-12-09 12:50:00       2.10       12680          France   \n",
      "541906 2011-12-09 12:50:00       4.15       12680          France   \n",
      "541907 2011-12-09 12:50:00       4.15       12680          France   \n",
      "541908 2011-12-09 12:50:00       4.95       12680          France   \n",
      "\n",
      "       TransactionType  TotalAmount MonthWeek  \n",
      "0                 sale        15.30        W1  \n",
      "1                 sale        20.34        W1  \n",
      "2                 sale        22.00        W1  \n",
      "3                 sale        20.34        W1  \n",
      "4                 sale        20.34        W1  \n",
      "...                ...          ...       ...  \n",
      "541904            sale        10.20        W2  \n",
      "541905            sale        12.60        W2  \n",
      "541906            sale        16.60        W2  \n",
      "541907            sale        16.60        W2  \n",
      "541908            sale        14.85        W2  \n",
      "\n",
      "[404909 rows x 11 columns]\n"
     ]
    }
   ],
   "source": [
    "# Creating a new column to hold the week of the month values from the InvoiceDate coulmn\n",
    "\n",
    "datetime_column = 'InvoiceDate'\n",
    "\n",
    "# Extract the week of the month and format it with 'W'\n",
    "df['MonthWeek'] = 'W' + (df[datetime_column].dt.day // 7 + 1).astype(str)\n",
    "\n",
    "# Print the DataFrame to see the new column\n",
    "print(df)"
   ]
  },
  {
   "cell_type": "code",
   "execution_count": 74,
   "id": "6b68c25e",
   "metadata": {},
   "outputs": [
    {
     "data": {
      "text/plain": [
       "array(['W1', 'W2', 'W3', 'W4', 'W5'], dtype=object)"
      ]
     },
     "execution_count": 74,
     "metadata": {},
     "output_type": "execute_result"
    }
   ],
   "source": [
    "df['MonthWeek'].unique()"
   ]
  },
  {
   "cell_type": "code",
   "execution_count": 75,
   "id": "916d47bc",
   "metadata": {},
   "outputs": [
    {
     "name": "stdout",
     "output_type": "stream",
     "text": [
      "        InvoiceNo  StockCode                          Description  Quantity  \\\n",
      "0          536365      85123   WHITE HANGING HEART T-LIGHT HOLDER         6   \n",
      "1          536365      71053                  WHITE METAL LANTERN         6   \n",
      "2          536365      84406       CREAM CUPID HEARTS COAT HANGER         8   \n",
      "3          536365      84029  KNITTED UNION FLAG HOT WATER BOTTLE         6   \n",
      "4          536365      84029       RED WOOLLY HOTTIE WHITE HEART.         6   \n",
      "...           ...        ...                                  ...       ...   \n",
      "541904     581587      22613          PACK OF 20 SPACEBOY NAPKINS        12   \n",
      "541905     581587      22899         CHILDREN'S APRON DOLLY GIRL          6   \n",
      "541906     581587      23254        CHILDRENS CUTLERY DOLLY GIRL          4   \n",
      "541907     581587      23255      CHILDRENS CUTLERY CIRCUS PARADE         4   \n",
      "541908     581587      22138        BAKING SET 9 PIECE RETROSPOT          3   \n",
      "\n",
      "               InvoiceDate  UnitPrice  CustomerID         Country  \\\n",
      "0      2010-12-01 08:26:00       2.55       17850  United Kingdom   \n",
      "1      2010-12-01 08:26:00       3.39       17850  United Kingdom   \n",
      "2      2010-12-01 08:26:00       2.75       17850  United Kingdom   \n",
      "3      2010-12-01 08:26:00       3.39       17850  United Kingdom   \n",
      "4      2010-12-01 08:26:00       3.39       17850  United Kingdom   \n",
      "...                    ...        ...         ...             ...   \n",
      "541904 2011-12-09 12:50:00       0.85       12680          France   \n",
      "541905 2011-12-09 12:50:00       2.10       12680          France   \n",
      "541906 2011-12-09 12:50:00       4.15       12680          France   \n",
      "541907 2011-12-09 12:50:00       4.15       12680          France   \n",
      "541908 2011-12-09 12:50:00       4.95       12680          France   \n",
      "\n",
      "       TransactionType  TotalAmount MonthWeek MonthofYear  \n",
      "0                 sale        15.30        W1         Dec  \n",
      "1                 sale        20.34        W1         Dec  \n",
      "2                 sale        22.00        W1         Dec  \n",
      "3                 sale        20.34        W1         Dec  \n",
      "4                 sale        20.34        W1         Dec  \n",
      "...                ...          ...       ...         ...  \n",
      "541904            sale        10.20        W2         Dec  \n",
      "541905            sale        12.60        W2         Dec  \n",
      "541906            sale        16.60        W2         Dec  \n",
      "541907            sale        16.60        W2         Dec  \n",
      "541908            sale        14.85        W2         Dec  \n",
      "\n",
      "[404909 rows x 12 columns]\n"
     ]
    }
   ],
   "source": [
    "# Creating a new column to hold the month values from the InvoiceDate coulmn\n",
    "datetime_column = 'InvoiceDate'\n",
    "\n",
    "# Dictionary to map month integers to their corresponding shorthand names\n",
    "month_names = {\n",
    "    1: 'Jan', 2: 'Feb', 3: 'Mar',\n",
    "    4: 'Apr', 5: 'May', 6: 'Jun',\n",
    "    7: 'Jul', 8: 'Aug', 9: 'Sept',\n",
    "    10: 'Oct', 11: 'Nov', 12: 'Dec'\n",
    "}\n",
    "\n",
    "# Extract the month and map it to its corresponding name\n",
    "df['MonthofYear'] = df[datetime_column].dt.month.map(month_names)\n",
    "\n",
    "# Print the DataFrame to see the new column\n",
    "print(df)"
   ]
  },
  {
   "cell_type": "code",
   "execution_count": 76,
   "id": "d0b69b12",
   "metadata": {},
   "outputs": [
    {
     "name": "stdout",
     "output_type": "stream",
     "text": [
      "<class 'pandas.core.frame.DataFrame'>\n",
      "Index: 404909 entries, 0 to 541908\n",
      "Data columns (total 12 columns):\n",
      " #   Column           Non-Null Count   Dtype         \n",
      "---  ------           --------------   -----         \n",
      " 0   InvoiceNo        404909 non-null  int32         \n",
      " 1   StockCode        404909 non-null  int32         \n",
      " 2   Description      404909 non-null  object        \n",
      " 3   Quantity         404909 non-null  int64         \n",
      " 4   InvoiceDate      404909 non-null  datetime64[ns]\n",
      " 5   UnitPrice        404909 non-null  float64       \n",
      " 6   CustomerID       404909 non-null  int32         \n",
      " 7   Country          404909 non-null  object        \n",
      " 8   TransactionType  404909 non-null  object        \n",
      " 9   TotalAmount      404909 non-null  float64       \n",
      " 10  MonthWeek        404909 non-null  object        \n",
      " 11  MonthofYear      404909 non-null  object        \n",
      "dtypes: datetime64[ns](1), float64(2), int32(3), int64(1), object(5)\n",
      "memory usage: 35.5+ MB\n"
     ]
    }
   ],
   "source": [
    "df.info()"
   ]
  },
  {
   "cell_type": "code",
   "execution_count": 77,
   "id": "41740a1d",
   "metadata": {},
   "outputs": [
    {
     "data": {
      "text/html": [
       "<div>\n",
       "<style scoped>\n",
       "    .dataframe tbody tr th:only-of-type {\n",
       "        vertical-align: middle;\n",
       "    }\n",
       "\n",
       "    .dataframe tbody tr th {\n",
       "        vertical-align: top;\n",
       "    }\n",
       "\n",
       "    .dataframe thead th {\n",
       "        text-align: right;\n",
       "    }\n",
       "</style>\n",
       "<table border=\"1\" class=\"dataframe\">\n",
       "  <thead>\n",
       "    <tr style=\"text-align: right;\">\n",
       "      <th></th>\n",
       "      <th>InvoiceNo</th>\n",
       "      <th>StockCode</th>\n",
       "      <th>Description</th>\n",
       "      <th>Quantity</th>\n",
       "      <th>InvoiceDate</th>\n",
       "      <th>UnitPrice</th>\n",
       "      <th>CustomerID</th>\n",
       "      <th>Country</th>\n",
       "      <th>TransactionType</th>\n",
       "      <th>TotalAmount</th>\n",
       "      <th>MonthWeek</th>\n",
       "      <th>MonthofYear</th>\n",
       "    </tr>\n",
       "  </thead>\n",
       "  <tbody>\n",
       "    <tr>\n",
       "      <th>0</th>\n",
       "      <td>536365</td>\n",
       "      <td>85123</td>\n",
       "      <td>WHITE HANGING HEART T-LIGHT HOLDER</td>\n",
       "      <td>6</td>\n",
       "      <td>2010-12-01 08:26:00</td>\n",
       "      <td>2.55</td>\n",
       "      <td>17850</td>\n",
       "      <td>United Kingdom</td>\n",
       "      <td>sale</td>\n",
       "      <td>15.30</td>\n",
       "      <td>W1</td>\n",
       "      <td>Dec</td>\n",
       "    </tr>\n",
       "    <tr>\n",
       "      <th>1</th>\n",
       "      <td>536365</td>\n",
       "      <td>71053</td>\n",
       "      <td>WHITE METAL LANTERN</td>\n",
       "      <td>6</td>\n",
       "      <td>2010-12-01 08:26:00</td>\n",
       "      <td>3.39</td>\n",
       "      <td>17850</td>\n",
       "      <td>United Kingdom</td>\n",
       "      <td>sale</td>\n",
       "      <td>20.34</td>\n",
       "      <td>W1</td>\n",
       "      <td>Dec</td>\n",
       "    </tr>\n",
       "    <tr>\n",
       "      <th>2</th>\n",
       "      <td>536365</td>\n",
       "      <td>84406</td>\n",
       "      <td>CREAM CUPID HEARTS COAT HANGER</td>\n",
       "      <td>8</td>\n",
       "      <td>2010-12-01 08:26:00</td>\n",
       "      <td>2.75</td>\n",
       "      <td>17850</td>\n",
       "      <td>United Kingdom</td>\n",
       "      <td>sale</td>\n",
       "      <td>22.00</td>\n",
       "      <td>W1</td>\n",
       "      <td>Dec</td>\n",
       "    </tr>\n",
       "    <tr>\n",
       "      <th>3</th>\n",
       "      <td>536365</td>\n",
       "      <td>84029</td>\n",
       "      <td>KNITTED UNION FLAG HOT WATER BOTTLE</td>\n",
       "      <td>6</td>\n",
       "      <td>2010-12-01 08:26:00</td>\n",
       "      <td>3.39</td>\n",
       "      <td>17850</td>\n",
       "      <td>United Kingdom</td>\n",
       "      <td>sale</td>\n",
       "      <td>20.34</td>\n",
       "      <td>W1</td>\n",
       "      <td>Dec</td>\n",
       "    </tr>\n",
       "    <tr>\n",
       "      <th>4</th>\n",
       "      <td>536365</td>\n",
       "      <td>84029</td>\n",
       "      <td>RED WOOLLY HOTTIE WHITE HEART.</td>\n",
       "      <td>6</td>\n",
       "      <td>2010-12-01 08:26:00</td>\n",
       "      <td>3.39</td>\n",
       "      <td>17850</td>\n",
       "      <td>United Kingdom</td>\n",
       "      <td>sale</td>\n",
       "      <td>20.34</td>\n",
       "      <td>W1</td>\n",
       "      <td>Dec</td>\n",
       "    </tr>\n",
       "    <tr>\n",
       "      <th>5</th>\n",
       "      <td>536365</td>\n",
       "      <td>22752</td>\n",
       "      <td>SET 7 BABUSHKA NESTING BOXES</td>\n",
       "      <td>2</td>\n",
       "      <td>2010-12-01 08:26:00</td>\n",
       "      <td>7.65</td>\n",
       "      <td>17850</td>\n",
       "      <td>United Kingdom</td>\n",
       "      <td>sale</td>\n",
       "      <td>15.30</td>\n",
       "      <td>W1</td>\n",
       "      <td>Dec</td>\n",
       "    </tr>\n",
       "    <tr>\n",
       "      <th>6</th>\n",
       "      <td>536365</td>\n",
       "      <td>21730</td>\n",
       "      <td>GLASS STAR FROSTED T-LIGHT HOLDER</td>\n",
       "      <td>6</td>\n",
       "      <td>2010-12-01 08:26:00</td>\n",
       "      <td>4.25</td>\n",
       "      <td>17850</td>\n",
       "      <td>United Kingdom</td>\n",
       "      <td>sale</td>\n",
       "      <td>25.50</td>\n",
       "      <td>W1</td>\n",
       "      <td>Dec</td>\n",
       "    </tr>\n",
       "    <tr>\n",
       "      <th>7</th>\n",
       "      <td>536366</td>\n",
       "      <td>22633</td>\n",
       "      <td>HAND WARMER UNION JACK</td>\n",
       "      <td>6</td>\n",
       "      <td>2010-12-01 08:28:00</td>\n",
       "      <td>1.85</td>\n",
       "      <td>17850</td>\n",
       "      <td>United Kingdom</td>\n",
       "      <td>sale</td>\n",
       "      <td>11.10</td>\n",
       "      <td>W1</td>\n",
       "      <td>Dec</td>\n",
       "    </tr>\n",
       "    <tr>\n",
       "      <th>8</th>\n",
       "      <td>536366</td>\n",
       "      <td>22632</td>\n",
       "      <td>HAND WARMER RED POLKA DOT</td>\n",
       "      <td>6</td>\n",
       "      <td>2010-12-01 08:28:00</td>\n",
       "      <td>1.85</td>\n",
       "      <td>17850</td>\n",
       "      <td>United Kingdom</td>\n",
       "      <td>sale</td>\n",
       "      <td>11.10</td>\n",
       "      <td>W1</td>\n",
       "      <td>Dec</td>\n",
       "    </tr>\n",
       "    <tr>\n",
       "      <th>9</th>\n",
       "      <td>536367</td>\n",
       "      <td>84879</td>\n",
       "      <td>ASSORTED COLOUR BIRD ORNAMENT</td>\n",
       "      <td>32</td>\n",
       "      <td>2010-12-01 08:34:00</td>\n",
       "      <td>1.69</td>\n",
       "      <td>13047</td>\n",
       "      <td>United Kingdom</td>\n",
       "      <td>sale</td>\n",
       "      <td>54.08</td>\n",
       "      <td>W1</td>\n",
       "      <td>Dec</td>\n",
       "    </tr>\n",
       "  </tbody>\n",
       "</table>\n",
       "</div>"
      ],
      "text/plain": [
       "   InvoiceNo  StockCode                          Description  Quantity  \\\n",
       "0     536365      85123   WHITE HANGING HEART T-LIGHT HOLDER         6   \n",
       "1     536365      71053                  WHITE METAL LANTERN         6   \n",
       "2     536365      84406       CREAM CUPID HEARTS COAT HANGER         8   \n",
       "3     536365      84029  KNITTED UNION FLAG HOT WATER BOTTLE         6   \n",
       "4     536365      84029       RED WOOLLY HOTTIE WHITE HEART.         6   \n",
       "5     536365      22752         SET 7 BABUSHKA NESTING BOXES         2   \n",
       "6     536365      21730    GLASS STAR FROSTED T-LIGHT HOLDER         6   \n",
       "7     536366      22633               HAND WARMER UNION JACK         6   \n",
       "8     536366      22632            HAND WARMER RED POLKA DOT         6   \n",
       "9     536367      84879        ASSORTED COLOUR BIRD ORNAMENT        32   \n",
       "\n",
       "          InvoiceDate  UnitPrice  CustomerID         Country TransactionType  \\\n",
       "0 2010-12-01 08:26:00       2.55       17850  United Kingdom            sale   \n",
       "1 2010-12-01 08:26:00       3.39       17850  United Kingdom            sale   \n",
       "2 2010-12-01 08:26:00       2.75       17850  United Kingdom            sale   \n",
       "3 2010-12-01 08:26:00       3.39       17850  United Kingdom            sale   \n",
       "4 2010-12-01 08:26:00       3.39       17850  United Kingdom            sale   \n",
       "5 2010-12-01 08:26:00       7.65       17850  United Kingdom            sale   \n",
       "6 2010-12-01 08:26:00       4.25       17850  United Kingdom            sale   \n",
       "7 2010-12-01 08:28:00       1.85       17850  United Kingdom            sale   \n",
       "8 2010-12-01 08:28:00       1.85       17850  United Kingdom            sale   \n",
       "9 2010-12-01 08:34:00       1.69       13047  United Kingdom            sale   \n",
       "\n",
       "   TotalAmount MonthWeek MonthofYear  \n",
       "0        15.30        W1         Dec  \n",
       "1        20.34        W1         Dec  \n",
       "2        22.00        W1         Dec  \n",
       "3        20.34        W1         Dec  \n",
       "4        20.34        W1         Dec  \n",
       "5        15.30        W1         Dec  \n",
       "6        25.50        W1         Dec  \n",
       "7        11.10        W1         Dec  \n",
       "8        11.10        W1         Dec  \n",
       "9        54.08        W1         Dec  "
      ]
     },
     "execution_count": 77,
     "metadata": {},
     "output_type": "execute_result"
    }
   ],
   "source": [
    "df.head(10)"
   ]
  },
  {
   "cell_type": "code",
   "execution_count": 78,
   "id": "95658077",
   "metadata": {},
   "outputs": [
    {
     "data": {
      "text/plain": [
       "False    399654\n",
       "True       5255\n",
       "Name: count, dtype: int64"
      ]
     },
     "execution_count": 78,
     "metadata": {},
     "output_type": "execute_result"
    }
   ],
   "source": [
    "df.duplicated().value_counts()"
   ]
  },
  {
   "cell_type": "markdown",
   "id": "5da22245",
   "metadata": {},
   "source": [
    "__The above output indicates that there a _5255_ duplicate rows in the dataset.__"
   ]
  },
  {
   "cell_type": "code",
   "execution_count": 79,
   "id": "25eb81d7",
   "metadata": {},
   "outputs": [
    {
     "name": "stdout",
     "output_type": "stream",
     "text": [
      "        InvoiceNo  StockCode                        Description  Quantity  \\\n",
      "517        536409      21866        UNION JACK FLAG LUGGAGE TAG         1   \n",
      "527        536409      22866      HAND WARMER SCOTTY DOG DESIGN         1   \n",
      "537        536409      22900    SET 2 TEA TOWELS I LOVE LONDON          1   \n",
      "539        536409      22111       SCOTTIE DOG HOT WATER BOTTLE         1   \n",
      "555        536412      22327  ROUND SNACK BOXES SET OF 4 SKULLS         1   \n",
      "...           ...        ...                                ...       ...   \n",
      "541675     581538      22068        BLACK PIRATE TREASURE CHEST         1   \n",
      "541689     581538      23318     BOX OF 6 MINI VINTAGE CRACKERS         1   \n",
      "541692     581538      22992             REVOLVER WOODEN RULER          1   \n",
      "541699     581538      22694                       WICKER STAR          1   \n",
      "541701     581538      23343       JUMBO BAG VINTAGE CHRISTMAS          1   \n",
      "\n",
      "               InvoiceDate  UnitPrice  CustomerID         Country  \\\n",
      "517    2010-12-01 11:45:00       1.25       17908  United Kingdom   \n",
      "527    2010-12-01 11:45:00       2.10       17908  United Kingdom   \n",
      "537    2010-12-01 11:45:00       2.95       17908  United Kingdom   \n",
      "539    2010-12-01 11:45:00       4.95       17908  United Kingdom   \n",
      "555    2010-12-01 11:49:00       2.95       17920  United Kingdom   \n",
      "...                    ...        ...         ...             ...   \n",
      "541675 2011-12-09 11:34:00       0.39       14446  United Kingdom   \n",
      "541689 2011-12-09 11:34:00       2.49       14446  United Kingdom   \n",
      "541692 2011-12-09 11:34:00       1.95       14446  United Kingdom   \n",
      "541699 2011-12-09 11:34:00       2.10       14446  United Kingdom   \n",
      "541701 2011-12-09 11:34:00       2.08       14446  United Kingdom   \n",
      "\n",
      "       TransactionType  TotalAmount MonthWeek MonthofYear  \n",
      "517               sale         1.25        W1         Dec  \n",
      "527               sale         2.10        W1         Dec  \n",
      "537               sale         2.95        W1         Dec  \n",
      "539               sale         4.95        W1         Dec  \n",
      "555               sale         2.95        W1         Dec  \n",
      "...                ...          ...       ...         ...  \n",
      "541675            sale         0.39        W2         Dec  \n",
      "541689            sale         2.49        W2         Dec  \n",
      "541692            sale         1.95        W2         Dec  \n",
      "541699            sale         2.10        W2         Dec  \n",
      "541701            sale         2.08        W2         Dec  \n",
      "\n",
      "[5255 rows x 12 columns]\n"
     ]
    }
   ],
   "source": [
    "# Using the duplicated() method to create a boolean Series of duplicate rows\n",
    "duplicate_rows = df[df.duplicated()]\n",
    "\n",
    "# Print the duplicate rows\n",
    "print(duplicate_rows)"
   ]
  },
  {
   "cell_type": "code",
   "execution_count": 80,
   "id": "9d75a13a",
   "metadata": {},
   "outputs": [],
   "source": [
    "# Deleting all duplicate values in the dataset\n",
    "\n",
    "df = df.drop_duplicates()"
   ]
  },
  {
   "cell_type": "code",
   "execution_count": 81,
   "id": "29c8e225",
   "metadata": {},
   "outputs": [
    {
     "data": {
      "text/plain": [
       "False    399654\n",
       "Name: count, dtype: int64"
      ]
     },
     "execution_count": 81,
     "metadata": {},
     "output_type": "execute_result"
    }
   ],
   "source": [
    "# Checking to verify the deletion of all duplicate values and rows\n",
    "\n",
    "df.duplicated().value_counts()"
   ]
  },
  {
   "cell_type": "code",
   "execution_count": 82,
   "id": "8021e24e",
   "metadata": {},
   "outputs": [
    {
     "name": "stdout",
     "output_type": "stream",
     "text": [
      "<class 'pandas.core.frame.DataFrame'>\n",
      "Index: 399654 entries, 0 to 541908\n",
      "Data columns (total 12 columns):\n",
      " #   Column           Non-Null Count   Dtype         \n",
      "---  ------           --------------   -----         \n",
      " 0   InvoiceNo        399654 non-null  int32         \n",
      " 1   StockCode        399654 non-null  int32         \n",
      " 2   Description      399654 non-null  object        \n",
      " 3   Quantity         399654 non-null  int64         \n",
      " 4   InvoiceDate      399654 non-null  datetime64[ns]\n",
      " 5   UnitPrice        399654 non-null  float64       \n",
      " 6   CustomerID       399654 non-null  int32         \n",
      " 7   Country          399654 non-null  object        \n",
      " 8   TransactionType  399654 non-null  object        \n",
      " 9   TotalAmount      399654 non-null  float64       \n",
      " 10  MonthWeek        399654 non-null  object        \n",
      " 11  MonthofYear      399654 non-null  object        \n",
      "dtypes: datetime64[ns](1), float64(2), int32(3), int64(1), object(5)\n",
      "memory usage: 35.1+ MB\n"
     ]
    }
   ],
   "source": [
    "df.info()"
   ]
  },
  {
   "cell_type": "code",
   "execution_count": 83,
   "id": "690b623b",
   "metadata": {},
   "outputs": [
    {
     "data": {
      "text/html": [
       "<div>\n",
       "<style scoped>\n",
       "    .dataframe tbody tr th:only-of-type {\n",
       "        vertical-align: middle;\n",
       "    }\n",
       "\n",
       "    .dataframe tbody tr th {\n",
       "        vertical-align: top;\n",
       "    }\n",
       "\n",
       "    .dataframe thead th {\n",
       "        text-align: right;\n",
       "    }\n",
       "</style>\n",
       "<table border=\"1\" class=\"dataframe\">\n",
       "  <thead>\n",
       "    <tr style=\"text-align: right;\">\n",
       "      <th></th>\n",
       "      <th>InvoiceNo</th>\n",
       "      <th>StockCode</th>\n",
       "      <th>Quantity</th>\n",
       "      <th>InvoiceDate</th>\n",
       "      <th>UnitPrice</th>\n",
       "      <th>CustomerID</th>\n",
       "      <th>TotalAmount</th>\n",
       "    </tr>\n",
       "  </thead>\n",
       "  <tbody>\n",
       "    <tr>\n",
       "      <th>count</th>\n",
       "      <td>399654.000000</td>\n",
       "      <td>399654.000000</td>\n",
       "      <td>399654.000000</td>\n",
       "      <td>399654</td>\n",
       "      <td>399654.000000</td>\n",
       "      <td>399654.000000</td>\n",
       "      <td>399654.000000</td>\n",
       "    </tr>\n",
       "    <tr>\n",
       "      <th>mean</th>\n",
       "      <td>560559.445716</td>\n",
       "      <td>30774.912587</td>\n",
       "      <td>13.569453</td>\n",
       "      <td>2011-07-10 12:46:01.383446784</td>\n",
       "      <td>2.907621</td>\n",
       "      <td>15288.681555</td>\n",
       "      <td>23.041940</td>\n",
       "    </tr>\n",
       "    <tr>\n",
       "      <th>min</th>\n",
       "      <td>536365.000000</td>\n",
       "      <td>10002.000000</td>\n",
       "      <td>1.000000</td>\n",
       "      <td>2010-12-01 08:26:00</td>\n",
       "      <td>0.000000</td>\n",
       "      <td>12346.000000</td>\n",
       "      <td>0.000000</td>\n",
       "    </tr>\n",
       "    <tr>\n",
       "      <th>25%</th>\n",
       "      <td>549148.000000</td>\n",
       "      <td>22029.000000</td>\n",
       "      <td>2.000000</td>\n",
       "      <td>2011-04-06 15:31:00</td>\n",
       "      <td>1.250000</td>\n",
       "      <td>13959.000000</td>\n",
       "      <td>4.950000</td>\n",
       "    </tr>\n",
       "    <tr>\n",
       "      <th>50%</th>\n",
       "      <td>561857.000000</td>\n",
       "      <td>22666.000000</td>\n",
       "      <td>6.000000</td>\n",
       "      <td>2011-07-29 16:24:00</td>\n",
       "      <td>1.950000</td>\n",
       "      <td>15152.000000</td>\n",
       "      <td>11.900000</td>\n",
       "    </tr>\n",
       "    <tr>\n",
       "      <th>75%</th>\n",
       "      <td>572035.000000</td>\n",
       "      <td>23268.000000</td>\n",
       "      <td>12.000000</td>\n",
       "      <td>2011-10-20 12:03:00</td>\n",
       "      <td>3.750000</td>\n",
       "      <td>16791.000000</td>\n",
       "      <td>19.800000</td>\n",
       "    </tr>\n",
       "    <tr>\n",
       "      <th>max</th>\n",
       "      <td>581587.000000</td>\n",
       "      <td>90214.000000</td>\n",
       "      <td>80995.000000</td>\n",
       "      <td>2011-12-09 12:50:00</td>\n",
       "      <td>649.500000</td>\n",
       "      <td>18287.000000</td>\n",
       "      <td>168469.600000</td>\n",
       "    </tr>\n",
       "    <tr>\n",
       "      <th>std</th>\n",
       "      <td>13087.440133</td>\n",
       "      <td>20616.684717</td>\n",
       "      <td>250.778916</td>\n",
       "      <td>NaN</td>\n",
       "      <td>4.452040</td>\n",
       "      <td>1710.807345</td>\n",
       "      <td>425.412835</td>\n",
       "    </tr>\n",
       "  </tbody>\n",
       "</table>\n",
       "</div>"
      ],
      "text/plain": [
       "           InvoiceNo      StockCode       Quantity  \\\n",
       "count  399654.000000  399654.000000  399654.000000   \n",
       "mean   560559.445716   30774.912587      13.569453   \n",
       "min    536365.000000   10002.000000       1.000000   \n",
       "25%    549148.000000   22029.000000       2.000000   \n",
       "50%    561857.000000   22666.000000       6.000000   \n",
       "75%    572035.000000   23268.000000      12.000000   \n",
       "max    581587.000000   90214.000000   80995.000000   \n",
       "std     13087.440133   20616.684717     250.778916   \n",
       "\n",
       "                         InvoiceDate      UnitPrice     CustomerID  \\\n",
       "count                         399654  399654.000000  399654.000000   \n",
       "mean   2011-07-10 12:46:01.383446784       2.907621   15288.681555   \n",
       "min              2010-12-01 08:26:00       0.000000   12346.000000   \n",
       "25%              2011-04-06 15:31:00       1.250000   13959.000000   \n",
       "50%              2011-07-29 16:24:00       1.950000   15152.000000   \n",
       "75%              2011-10-20 12:03:00       3.750000   16791.000000   \n",
       "max              2011-12-09 12:50:00     649.500000   18287.000000   \n",
       "std                              NaN       4.452040    1710.807345   \n",
       "\n",
       "         TotalAmount  \n",
       "count  399654.000000  \n",
       "mean       23.041940  \n",
       "min         0.000000  \n",
       "25%         4.950000  \n",
       "50%        11.900000  \n",
       "75%        19.800000  \n",
       "max    168469.600000  \n",
       "std       425.412835  "
      ]
     },
     "execution_count": 83,
     "metadata": {},
     "output_type": "execute_result"
    }
   ],
   "source": [
    "df.describe()"
   ]
  },
  {
   "cell_type": "code",
   "execution_count": 84,
   "id": "1497c3a3-1545-4eda-a583-2cd5f333ef09",
   "metadata": {},
   "outputs": [],
   "source": [
    "## Saving the DataFrame to a CSV file, uncomment the code block below to run cell to save data frame as csv\n",
    "\n",
    "#file_path = 'online_retail_cl.csv'\n",
    "#df.to_csv(file_path, index=False)  # Set index=False to avoid saving the row indices as a column\n",
    "\n",
    "#print(\"CSV file saved successfully.\")"
   ]
  }
 ],
 "metadata": {
  "kernelspec": {
   "display_name": "Python 3 (ipykernel)",
   "language": "python",
   "name": "python3"
  },
  "language_info": {
   "codemirror_mode": {
    "name": "ipython",
    "version": 3
   },
   "file_extension": ".py",
   "mimetype": "text/x-python",
   "name": "python",
   "nbconvert_exporter": "python",
   "pygments_lexer": "ipython3",
   "version": "3.11.5"
  }
 },
 "nbformat": 4,
 "nbformat_minor": 5
}
